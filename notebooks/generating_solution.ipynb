{
 "cells": [
  {
   "cell_type": "code",
   "execution_count": 1,
   "id": "3b455299-387c-4a5c-b802-e64b8fdb5c77",
   "metadata": {},
   "outputs": [
    {
     "data": {
      "text/plain": [
       "<module 'config.config' from '/Users/rodrigo/Documents/SourcesCodes/GitHub/optimization_sensor_locations_with_constraints/notebooks/../config/config.py'>"
      ]
     },
     "execution_count": 1,
     "metadata": {},
     "output_type": "execute_result"
    }
   ],
   "source": [
    "#Cargando librerías \n",
    "import importlib\n",
    "\n",
    "import matplotlib.pyplot as plt\n",
    "\n",
    "from matplotlib import cm\n",
    "import matplotlib as mpl\n",
    "import itertools as it\n",
    "\n",
    "\n",
    "#from matplotlib.colors import ListedColormap, LinearSegmentedColormap\n",
    "\n",
    "import scipy as sp\n",
    "import pandas as pd\n",
    "\n",
    "import numpy as np\n",
    "import itertools as it\n",
    "import random \n",
    "\n",
    "import os\n",
    "import sys  \n",
    "\n",
    "\n",
    "root = os.getcwd() + \"/..\"\n",
    "\n",
    "sys.path.insert(0, root)\n",
    "\n",
    "import src.positioning_sensors as ps\n",
    "importlib.reload(ps)\n",
    "\n",
    "import src.network_fitness as netfit\n",
    "importlib.reload(netfit)\n",
    "\n",
    "import src.manageExperiments as me\n",
    "importlib.reload(me)\n",
    "\n",
    "import config.config as cfg\n",
    "importlib.reload(cfg)\n"
   ]
  },
  {
   "cell_type": "code",
   "execution_count": 2,
   "id": "902af14e-0203-476e-9961-c0cf02721513",
   "metadata": {},
   "outputs": [],
   "source": [
    "n_extra_sensors = 2\n",
    "\n",
    "#varbound = np.array([[0, 10], [0, 20]]*n_extra_sensors)"
   ]
  },
  {
   "cell_type": "code",
   "execution_count": 3,
   "id": "3d3ed854-c3d0-4c1e-a2f7-a806edb52587",
   "metadata": {},
   "outputs": [],
   "source": [
    "#cuantos sensores estamos dispuestos a mover\n",
    "move_sensor = 2"
   ]
  },
  {
   "cell_type": "code",
   "execution_count": 4,
   "id": "d12f6092-33d7-4025-a5ef-bfcfe7552384",
   "metadata": {},
   "outputs": [],
   "source": [
    "fn = \"linz_with_init_net.txt\"\n",
    "setup = me.readConfigFile(fn)"
   ]
  },
  {
   "cell_type": "markdown",
   "id": "80a7e171-21ef-4492-89d6-5162612dda32",
   "metadata": {},
   "source": [
    "$$C^n_r$$"
   ]
  },
  {
   "cell_type": "code",
   "execution_count": 5,
   "id": "85f3dbf5-9cab-4c1e-928a-ab4215f13fd9",
   "metadata": {},
   "outputs": [],
   "source": [
    "L = setup[\"init_fixed_net\"]\n",
    "n = len(L)\n",
    "r = 3"
   ]
  },
  {
   "cell_type": "code",
   "execution_count": 6,
   "id": "a8a69211-d7c6-4bca-8335-e520b652b22f",
   "metadata": {},
   "outputs": [],
   "source": [
    "#cargamos imagenes en luminance e importance\n",
    "ilumina = setup[\"folder_input\"] + setup[\"input_ntli\"]\n",
    "niveles = setup[\"folder_input\"] + setup[\"input_evm\"]\n",
    "sigma_y = setup['filterg_sy']\n",
    "sigma_x = setup['filterg_sx']\n",
    "sigma = [sigma_y, sigma_x]"
   ]
  },
  {
   "cell_type": "code",
   "execution_count": 7,
   "id": "8ddb994c-730e-440a-8be5-e825a368eed5",
   "metadata": {},
   "outputs": [],
   "source": [
    "NTLI = ps.readIMG(ilumina)"
   ]
  },
  {
   "cell_type": "code",
   "execution_count": null,
   "id": "fb81b779-cda2-4475-b6c2-90051758e0f7",
   "metadata": {},
   "outputs": [],
   "source": []
  },
  {
   "cell_type": "code",
   "execution_count": 8,
   "id": "d5e29b72-c9c8-4f13-91d8-7b592a766a9d",
   "metadata": {},
   "outputs": [
    {
     "name": "stderr",
     "output_type": "stream",
     "text": [
      "/var/folders/k9/wpfgnz550_n_k3t9tg8scnlw0000gn/T/ipykernel_8030/1759838245.py:7: DeprecationWarning: Please use `gaussian_filter` from the `scipy.ndimage` namespace, the `scipy.ndimage.filters` namespace is deprecated.\n",
      "  FDNTLI = sp.ndimage.filters.gaussian_filter(NTLI,\n"
     ]
    }
   ],
   "source": [
    "ilumina = cfg.data + setup[\"folder_input\"] + setup[\"input_ntli\"]\n",
    "niveles = cfg.data + setup[\"folder_input\"] + setup[\"input_evm\"]\n",
    "\n",
    "#NTLI: luminance\n",
    "NTLI = ps.readIMG(ilumina)\n",
    "\n",
    "FDNTLI = sp.ndimage.filters.gaussian_filter(NTLI, \n",
    "                                            sigma, \n",
    "                                            mode = setup['gaussian_mode'])"
   ]
  },
  {
   "cell_type": "code",
   "execution_count": 43,
   "id": "f09ec602-6080-4279-8e8d-dd6e236c2de5",
   "metadata": {},
   "outputs": [],
   "source": [
    "var_bound = list([NTLI.shape]*n)\n",
    "c = len(var_bound)"
   ]
  },
  {
   "cell_type": "code",
   "execution_count": 44,
   "id": "ae608fd5-493f-4449-9d46-9566efed3048",
   "metadata": {},
   "outputs": [],
   "source": [
    "def generateCombinations(n, r):\n",
    "    elements = range(n)\n",
    "    \n",
    "    n = [x for x in range(n)]\n",
    "\n",
    "    #all the possible combinations without repetition taken in groups  C_(n, x), \n",
    "    #n: total number of different elements\n",
    "    #x: number of selection\n",
    "\n",
    "    #all the combinations\n",
    "    combination = list(it.combinations(n, r))\n",
    "\n",
    "    return np.array(combination)\n",
    "    \n",
    "\n",
    "C = generateCombinations(5, r)"
   ]
  },
  {
   "cell_type": "code",
   "execution_count": 45,
   "id": "6bc5c6b3-9674-4d1d-b787-5a86cdd93994",
   "metadata": {},
   "outputs": [],
   "source": [
    "allc = setup[\"sensitivity_c\"]\n",
    "alls = setup[\"nsensors\"]"
   ]
  },
  {
   "cell_type": "code",
   "execution_count": 46,
   "id": "942a516c-e1ae-4754-ac1a-ae212c22f969",
   "metadata": {},
   "outputs": [],
   "source": [
    "EAM = ps.readIMG(niveles, invert = True)\n",
    "\n",
    "EAM[EAM==254]=1.0"
   ]
  },
  {
   "cell_type": "code",
   "execution_count": 47,
   "id": "beedaa1b-8573-45a9-bc2e-0470d33ee67b",
   "metadata": {},
   "outputs": [
    {
     "name": "stdout",
     "output_type": "stream",
     "text": [
      " W = i*a^(p)\n"
     ]
    }
   ],
   "source": [
    "sensitivity = ps.f5(FDNTLI, EAM, c)"
   ]
  },
  {
   "cell_type": "code",
   "execution_count": 48,
   "id": "68e9d7ef-796b-4535-931e-5a099fbed361",
   "metadata": {},
   "outputs": [],
   "source": [
    "#Loading precalculated local and directed empirical variograms\n",
    "path2output_semivars = (cfg.experiment \n",
    "          + setup[\"experiment_id\"]\n",
    "          + setup[\"folder_semivariances\"]\n",
    "          + setup[\"output_semivariances\"] \n",
    "                       )"
   ]
  },
  {
   "cell_type": "code",
   "execution_count": 49,
   "id": "71238b4e-1ef2-45df-baa4-414965b5bcf4",
   "metadata": {},
   "outputs": [
    {
     "name": "stderr",
     "output_type": "stream",
     "text": [
      "/var/folders/k9/wpfgnz550_n_k3t9tg8scnlw0000gn/T/ipykernel_8030/2836547934.py:1: DeprecationWarning: Please use `gaussian_filter` from the `scipy.ndimage` namespace, the `scipy.ndimage.filters` namespace is deprecated.\n",
      "  FDNTLI = sp.ndimage.filters.gaussian_filter(NTLI,\n"
     ]
    }
   ],
   "source": [
    "FDNTLI = sp.ndimage.filters.gaussian_filter(NTLI, \n",
    "                                            sigma, \n",
    "                                            mode = setup['gaussian_mode'])"
   ]
  },
  {
   "cell_type": "code",
   "execution_count": 50,
   "id": "eb1ae651-6372-445a-b1c3-56a1233b86f1",
   "metadata": {},
   "outputs": [],
   "source": [
    "filesv = path2output_semivars + \".csv\"\n",
    "filesvmask = path2output_semivars + \"mask.csv\"\n",
    "\n",
    "nonsat = FDNTLI"
   ]
  },
  {
   "cell_type": "code",
   "execution_count": 51,
   "id": "bb641065-1e85-42ab-ab3f-8de171c474e0",
   "metadata": {},
   "outputs": [],
   "source": [
    "data = pd.read_csv(filesv)\n",
    "data_m = pd.read_csv(filesvmask)\n",
    "variogram_set = np.array(data.iloc[:,3:])\n",
    "variogram_set_m = np.array(data_m.iloc[:,3:])"
   ]
  },
  {
   "cell_type": "code",
   "execution_count": 52,
   "id": "280e517f-d729-4ca9-85b3-cdb5d0297acf",
   "metadata": {},
   "outputs": [],
   "source": [
    "coords = np.array(data.iloc[:,1:3])"
   ]
  },
  {
   "cell_type": "code",
   "execution_count": 53,
   "id": "138212f5-3daa-43c2-a2ad-00ec3cc827e6",
   "metadata": {},
   "outputs": [],
   "source": [
    "variograms = variogram_set.reshape(len(variogram_set),nonsat.shape[0],nonsat.shape[1])"
   ]
  },
  {
   "cell_type": "code",
   "execution_count": 54,
   "id": "3d242c51-5b42-4caa-b13c-2118fa7468d8",
   "metadata": {},
   "outputs": [],
   "source": [
    "variograms_m = variogram_set_m.reshape(len(variogram_set),nonsat.shape[0],nonsat.shape[1])"
   ]
  },
  {
   "cell_type": "code",
   "execution_count": 55,
   "id": "3ee80383-37b7-4a22-b87f-e4944dea4c3c",
   "metadata": {},
   "outputs": [
    {
     "name": "stdout",
     "output_type": "stream",
     "text": [
      "Selct cost functions: \n",
      " 'xor','max' or 'cover'\n"
     ]
    }
   ],
   "source": [
    "aptitude = netfit.NetworkFitness(FDNTLI,\n",
    "                                     EAM, \n",
    "                                     sensitivity, \n",
    "                                     variograms, \n",
    "                                     variograms_m,\n",
    "                                     coords)"
   ]
  },
  {
   "cell_type": "code",
   "execution_count": 56,
   "id": "f7643823-8e08-4cab-a69d-ff6b0df1b081",
   "metadata": {},
   "outputs": [],
   "source": [
    "aptitude.selectFitnessFunction(\"max\")\n",
    "f = aptitude.f"
   ]
  },
  {
   "cell_type": "code",
   "execution_count": 57,
   "id": "9e88e37d-49ab-45c2-a8ee-76b5cfc6bb17",
   "metadata": {},
   "outputs": [],
   "source": [
    "aptitude.setCombinations(C)\n"
   ]
  },
  {
   "cell_type": "code",
   "execution_count": 58,
   "id": "d84eb83f-8eeb-4158-9e84-f25a1e878e16",
   "metadata": {},
   "outputs": [],
   "source": [
    "var_bound.append((0,len(C)))"
   ]
  },
  {
   "cell_type": "code",
   "execution_count": 59,
   "id": "3aae52ee-15ea-49ba-bd25-1e6abdbc0fb9",
   "metadata": {},
   "outputs": [],
   "source": [
    "varbound = [[0, NTLI.shape[0]], [0, NTLI.shape[1]]]*n"
   ]
  },
  {
   "cell_type": "code",
   "execution_count": 60,
   "id": "8bb982d7-48e1-41f4-b2d2-d64f809a6a32",
   "metadata": {},
   "outputs": [],
   "source": [
    "varbound.append([0,len(C)-1]) "
   ]
  },
  {
   "cell_type": "code",
   "execution_count": null,
   "id": "67ec2140-4016-49aa-a05e-3785c766f4e1",
   "metadata": {},
   "outputs": [],
   "source": []
  },
  {
   "cell_type": "code",
   "execution_count": null,
   "id": "62a23b55-c299-4ffc-b167-6758091f904b",
   "metadata": {},
   "outputs": [],
   "source": [
    "\n"
   ]
  },
  {
   "cell_type": "code",
   "execution_count": 62,
   "id": "612e943b-bb13-4c9f-9401-2ec4793e0f51",
   "metadata": {},
   "outputs": [],
   "source": [
    "#we select random combinations\n",
    "combination = aptitude.c\n"
   ]
  },
  {
   "cell_type": "code",
   "execution_count": null,
   "id": "1c344973-ae21-44d8-bc2e-d9d7fc0f8357",
   "metadata": {},
   "outputs": [],
   "source": []
  },
  {
   "cell_type": "code",
   "execution_count": null,
   "id": "495ebb7f-1bb7-4479-b477-342a92c93038",
   "metadata": {},
   "outputs": [],
   "source": []
  },
  {
   "cell_type": "code",
   "execution_count": 63,
   "id": "0167c1b8-d342-4194-955e-b5dfe9266946",
   "metadata": {},
   "outputs": [],
   "source": [
    "random_pos = [random.randint(r[0], r[1]) for r in varbound]"
   ]
  },
  {
   "cell_type": "code",
   "execution_count": 64,
   "id": "57bd011c-07f3-40a7-a6f6-2e73c22a44a4",
   "metadata": {},
   "outputs": [],
   "source": [
    "Y = np.array(L).flatten()"
   ]
  },
  {
   "cell_type": "code",
   "execution_count": 65,
   "id": "d11f59d1-27ed-472e-af4d-748069d65f95",
   "metadata": {},
   "outputs": [],
   "source": [
    "X = random_pos[:-1]\n",
    "\n",
    "random_com = random_pos[-1]\n",
    "\n",
    "fp = np.array(L).flatten()"
   ]
  },
  {
   "cell_type": "code",
   "execution_count": 66,
   "id": "15591fa3-a582-4cf7-82f7-e4bc0a84008e",
   "metadata": {},
   "outputs": [],
   "source": [
    "Z = combination[random_com]"
   ]
  },
  {
   "cell_type": "code",
   "execution_count": 76,
   "id": "eefc2c8e-859d-4e6d-848d-ffc1f7815e92",
   "metadata": {},
   "outputs": [
    {
     "data": {
      "text/plain": [
       "array([0, 1, 4])"
      ]
     },
     "execution_count": 76,
     "metadata": {},
     "output_type": "execute_result"
    }
   ],
   "source": [
    "Z"
   ]
  },
  {
   "cell_type": "code",
   "execution_count": 67,
   "id": "08a20164-6544-424b-a541-91021cb05c77",
   "metadata": {},
   "outputs": [],
   "source": [
    "vect_selection = np.zeros(len(L)*1)\n",
    "vect_selection[Z] = 1"
   ]
  },
  {
   "cell_type": "code",
   "execution_count": 75,
   "id": "3b31641a-9d98-4b90-af57-a76086b0b951",
   "metadata": {},
   "outputs": [
    {
     "data": {
      "text/plain": [
       "[[34, 34], [34, 31], [35, 29], [36, 39], [39, 22]]"
      ]
     },
     "execution_count": 75,
     "metadata": {},
     "output_type": "execute_result"
    }
   ],
   "source": [
    "L"
   ]
  },
  {
   "cell_type": "code",
   "execution_count": 68,
   "id": "64562cff-7164-4f47-9ee7-5e6d936a4780",
   "metadata": {},
   "outputs": [],
   "source": [
    "W = np.array(L).flatten()"
   ]
  },
  {
   "cell_type": "code",
   "execution_count": 69,
   "id": "bdf932f4-4fa8-412b-a5cb-654a7a910ee6",
   "metadata": {},
   "outputs": [],
   "source": [
    "#We move selected sensors"
   ]
  },
  {
   "cell_type": "code",
   "execution_count": 70,
   "id": "e50cc52b-dc07-44fc-a50c-0942357d46dd",
   "metadata": {},
   "outputs": [],
   "source": [
    "for ix, x in enumerate(vect_selection):\n",
    "    \n",
    "    if x == 1:\n",
    "        W[ix*2:ix*2+2] = X[ix*2:ix*2+2]"
   ]
  },
  {
   "cell_type": "code",
   "execution_count": 71,
   "id": "5d2ce20b-28d7-4d7c-96b9-3a9a71c5c1f0",
   "metadata": {},
   "outputs": [
    {
     "data": {
      "text/plain": [
       "array([1., 1., 0., 0., 1.])"
      ]
     },
     "execution_count": 71,
     "metadata": {},
     "output_type": "execute_result"
    }
   ],
   "source": [
    "vect_selection"
   ]
  },
  {
   "cell_type": "code",
   "execution_count": 72,
   "id": "54c84b53-ed98-4f22-9891-5ef3711d9629",
   "metadata": {},
   "outputs": [
    {
     "data": {
      "text/plain": [
       "array([34, 34, 34, 31, 35, 29, 36, 39, 39, 22])"
      ]
     },
     "execution_count": 72,
     "metadata": {},
     "output_type": "execute_result"
    }
   ],
   "source": [
    "Y"
   ]
  },
  {
   "cell_type": "code",
   "execution_count": 73,
   "id": "851ce2e5-374c-4d8f-99d8-6fed0cfb80df",
   "metadata": {},
   "outputs": [
    {
     "data": {
      "text/plain": [
       "array([ 0, 52, 13, 35, 35, 29, 36, 39, 19, 22])"
      ]
     },
     "execution_count": 73,
     "metadata": {},
     "output_type": "execute_result"
    }
   ],
   "source": [
    "W"
   ]
  },
  {
   "cell_type": "code",
   "execution_count": 74,
   "id": "426dea76-d2d0-41a1-8fa9-b7fe61a9eaf1",
   "metadata": {},
   "outputs": [
    {
     "data": {
      "text/plain": [
       "[0, 52, 13, 35, 21, 59, 43, 56, 19, 22]"
      ]
     },
     "execution_count": 74,
     "metadata": {},
     "output_type": "execute_result"
    }
   ],
   "source": [
    "X"
   ]
  },
  {
   "cell_type": "code",
   "execution_count": null,
   "id": "bbcb1883-cf42-4740-8533-38e4b32a0d29",
   "metadata": {},
   "outputs": [],
   "source": []
  },
  {
   "cell_type": "code",
   "execution_count": null,
   "id": "b2183d30-61b3-460b-aa80-06840bac083c",
   "metadata": {},
   "outputs": [],
   "source": []
  },
  {
   "cell_type": "code",
   "execution_count": null,
   "id": "2c1b3c3b-11be-4a60-b526-ac61f9025e5e",
   "metadata": {},
   "outputs": [],
   "source": []
  }
 ],
 "metadata": {
  "kernelspec": {
   "display_name": "Python 3 (ipykernel)",
   "language": "python",
   "name": "python3"
  },
  "language_info": {
   "codemirror_mode": {
    "name": "ipython",
    "version": 3
   },
   "file_extension": ".py",
   "mimetype": "text/x-python",
   "name": "python",
   "nbconvert_exporter": "python",
   "pygments_lexer": "ipython3",
   "version": "3.9.16"
  }
 },
 "nbformat": 4,
 "nbformat_minor": 5
}
