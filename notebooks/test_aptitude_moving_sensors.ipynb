{
 "cells": [
  {
   "cell_type": "code",
   "execution_count": 2,
   "id": "53a798d7-022f-430b-897c-09fdb9a526eb",
   "metadata": {},
   "outputs": [
    {
     "name": "stderr",
     "output_type": "stream",
     "text": [
      "/var/folders/k9/wpfgnz550_n_k3t9tg8scnlw0000gn/T/ipykernel_67472/4264779860.py:93: DeprecationWarning: Please use `gaussian_filter` from the `scipy.ndimage` namespace, the `scipy.ndimage.filters` namespace is deprecated.\n",
      "  FDNTLI = sp.ndimage.filters.gaussian_filter(NTLI,\n"
     ]
    }
   ],
   "source": [
    "#!/usr/bin/env python3\n",
    "# -*- coding: utf-8 -*-\n",
    "\"\"\"\n",
    "Created on Fri May 27 22:15:13 2022\n",
    "\n",
    "@author: rodrigo\n",
    "\"\"\"\n",
    "\n",
    "#Cargando librerías \n",
    "import importlib\n",
    "\n",
    "import matplotlib.pyplot as plt\n",
    "import scipy as sp\n",
    "import numpy as np\n",
    "import pandas as pd\n",
    "import os\n",
    "import sys  \n",
    "\n",
    "root = os.getcwd() + \"/..\"\n",
    "\n",
    "sys.path.insert(0, root)\n",
    "\n",
    "import src.positioning_sensors as ps\n",
    "importlib.reload(ps)\n",
    "\n",
    "import src.network_fitness as netfit\n",
    "importlib.reload(netfit)\n",
    "\n",
    "import src.manageExperiments as me\n",
    "importlib.reload(me)\n",
    "\n",
    "import config.config as cfg\n",
    "importlib.reload(cfg)\n",
    "\n",
    "from geneticalgorithm import geneticalgorithm as ga\n",
    "\n",
    "import itertools as it\n",
    "\n",
    "#read_global_variables\n",
    "\n",
    "plt.style.use(\"ggplot\")\n",
    "\n",
    "fn = \"linz_with_init_net.txt\"\n",
    "setup = me.readConfigFile(fn)\n",
    "\n",
    "\n",
    "#cargamos imagenes en luminance e importance\n",
    "ilumina = setup[\"folder_input\"] + setup[\"input_ntli\"]\n",
    "niveles = setup[\"folder_input\"] + setup[\"input_evm\"]\n",
    "sigma_y = setup['filterg_sy']\n",
    "sigma_x = setup['filterg_sx']\n",
    "sigma = [sigma_y,sigma_x]\n",
    "\n",
    "#Loading precalculated local and directed empirical variograms\n",
    "path2output_semivars = (cfg.experiment \n",
    "          + setup[\"experiment_id\"]\n",
    "          + setup[\"folder_semivariances\"]\n",
    "          + setup[\"output_semivariances\"] \n",
    "                       )\n",
    "\n",
    "\n",
    "filesv = path2output_semivars + \".csv\"\n",
    "filesvmask = path2output_semivars + \"mask.csv\"\n",
    "\n",
    "path2optimum_values_file = (cfg.experiment \n",
    "                           + setup[\"experiment_id\"] \n",
    "                           + setup[\"folder_output\"] \n",
    "                           )\n",
    "\n",
    "saveOptimumValuesTofile = (path2optimum_values_file\n",
    "                           + setup[\"output_values\"]\n",
    "                          )\n",
    "\n",
    "saveArgsTofile = (path2optimum_values_file\n",
    "                  + setup[\"output_args\"]\n",
    "                 )\n",
    "\n",
    "data = pd.read_csv(filesv)\n",
    "data_m = pd.read_csv(filesvmask)\n",
    "variogram_set = np.array(data.iloc[:,3:])\n",
    "variogram_set_m = np.array(data_m.iloc[:,3:])\n",
    "\n",
    "\n",
    "#NLTI: luminance\n",
    "#luminance = ps.readIMG(cfg.data + ilumina)\n",
    "\n",
    "ilumina = cfg.data + setup[\"folder_input\"] + setup[\"input_ntli\"]\n",
    "niveles = cfg.data + setup[\"folder_input\"] + setup[\"input_evm\"]\n",
    "\n",
    "#NTLI: luminance\n",
    "NTLI = ps.readIMG(ilumina)\n",
    "\n",
    "FDNTLI = sp.ndimage.filters.gaussian_filter(NTLI, \n",
    "                                            sigma, \n",
    "                                            mode = setup['gaussian_mode'])\n",
    "\n",
    "\n",
    "\n",
    "FDNTLI = (FDNTLI>=setup['neglect_values'])*FDNTLI\n",
    "\n",
    "EAM = ps.readIMG(niveles, invert = True)\n",
    "\n",
    "EAM[EAM==254]=1.0\n",
    "\n",
    "th = int(setup[\"desaturation_th\"])\n",
    "\n",
    "#EAM: Environtmental attention map is the importance\n",
    "#EAM = ps.readIMG(cfg.data + niveles, invert = True)\n",
    "\n",
    "\n",
    "#nonsat, b = ps.desaturate(luminance, th = setup[\"desaturation_th\"])\n",
    "\n",
    "nonsat = FDNTLI\n",
    "variograms = variogram_set.reshape(len(variogram_set),nonsat.shape[0],nonsat.shape[1])\n",
    "variograms_m = variogram_set_m.reshape(len(variogram_set),nonsat.shape[0],nonsat.shape[1])\n",
    "\n",
    "coords = np.array(data.iloc[:,1:3])\n",
    "\n",
    "from IPython.display import clear_output\n",
    "\n",
    "r2 = list([])\n",
    "results2 = list([])\n",
    "\n",
    "\n",
    "\n",
    "\n",
    "allc = setup[\"sensitivity_c\"]\n",
    "\n",
    "alls = setup[\"nsensors\"]\n",
    "\n",
    "L = setup['init_fixed_net']\n",
    "\n",
    "network = np.array(L).flatten()\n",
    "\n",
    "R = np.arange(len(L))"
   ]
  },
  {
   "cell_type": "code",
   "execution_count": 3,
   "id": "8e5de713-3a8b-4496-934a-d107c234cce3",
   "metadata": {},
   "outputs": [],
   "source": [
    "#sensors allowed to modify their position\n",
    "n = 1"
   ]
  },
  {
   "cell_type": "code",
   "execution_count": 4,
   "id": "99382cb9-95e2-48f5-a99c-394b0b0ce765",
   "metadata": {},
   "outputs": [
    {
     "name": "stdout",
     "output_type": "stream",
     "text": [
      "sensibilidad: [1]\n",
      "sensors extra: [0]\n"
     ]
    },
    {
     "data": {
      "text/plain": [
       "[(1, 0)]"
      ]
     },
     "execution_count": 4,
     "metadata": {},
     "output_type": "execute_result"
    }
   ],
   "source": [
    "print(\"sensibilidad:\", allc)\n",
    "print(\"sensors extra:\", alls)\n",
    "[i for i in it.product(allc, alls)]"
   ]
  },
  {
   "cell_type": "code",
   "execution_count": 5,
   "id": "e28f791b-43a6-4ef8-9e9d-5e7151ea0782",
   "metadata": {},
   "outputs": [
    {
     "data": {
      "text/plain": [
       "[0]"
      ]
     },
     "execution_count": 5,
     "metadata": {},
     "output_type": "execute_result"
    }
   ],
   "source": [
    "#extra sensors\n",
    "setup[\"nsensors\"]"
   ]
  },
  {
   "cell_type": "code",
   "execution_count": 6,
   "id": "ffecb5bb-961b-4156-94cb-31af455d0139",
   "metadata": {},
   "outputs": [
    {
     "name": "stdout",
     "output_type": "stream",
     "text": [
      "(1, 0)\n",
      " W = i*a^(p)\n",
      "Selct cost functions: \n",
      " 'xor','max' or 'cover'\n"
     ]
    }
   ],
   "source": [
    "for i in it.product(allc, alls):\n",
    "    c = i[0]\n",
    "    n_sensors = i[1]\n",
    "    print(i)\n",
    "    \n",
    "    sensitivity = ps.f5(FDNTLI, EAM, c)\n",
    "    \n",
    "    aptitude = netfit.NetworkFitness(FDNTLI,\n",
    "                                     EAM, \n",
    "                                     sensitivity, \n",
    "                                     variograms, \n",
    "                                     variograms_m,\n",
    "                                     coords,\n",
    "                                     network,\n",
    "                                     n)\n",
    "    \n",
    "    aptitude.selectFitnessFunction(\"max\")\n",
    "    f = aptitude.f\n",
    "    \n",
    "    \n",
    "    "
   ]
  },
  {
   "cell_type": "markdown",
   "id": "4a9ee3d8-646d-41f4-80d7-97d4af99f721",
   "metadata": {},
   "source": [
    "$$C_r^x$$"
   ]
  },
  {
   "cell_type": "code",
   "execution_count": null,
   "id": "af45d082-ab81-493f-90c5-5a689f344dd3",
   "metadata": {},
   "outputs": [],
   "source": []
  },
  {
   "cell_type": "code",
   "execution_count": 8,
   "id": "5c829fa9-076a-4540-b3ba-cab65591dfad",
   "metadata": {},
   "outputs": [
    {
     "data": {
      "text/plain": [
       "[(0, 1, 2),\n",
       " (0, 1, 3),\n",
       " (0, 1, 4),\n",
       " (0, 2, 3),\n",
       " (0, 2, 4),\n",
       " (0, 3, 4),\n",
       " (1, 2, 3),\n",
       " (1, 2, 4),\n",
       " (1, 3, 4),\n",
       " (2, 3, 4)]"
      ]
     },
     "execution_count": 8,
     "metadata": {},
     "output_type": "execute_result"
    }
   ],
   "source": [
    "aptitude.generateCombinations(5, 3)"
   ]
  },
  {
   "cell_type": "code",
   "execution_count": null,
   "id": "5775e5c7-0f54-4cee-b8f5-7dee0f828f81",
   "metadata": {},
   "outputs": [],
   "source": []
  },
  {
   "cell_type": "code",
   "execution_count": 7,
   "id": "6d572a1f-9e94-4280-8d66-c0397271f849",
   "metadata": {},
   "outputs": [
    {
     "data": {
      "text/plain": [
       "[(0,), (1,), (2,), (3,), (4,)]"
      ]
     },
     "execution_count": 7,
     "metadata": {},
     "output_type": "execute_result"
    }
   ],
   "source": [
    "aptitude.c"
   ]
  },
  {
   "cell_type": "code",
   "execution_count": 8,
   "id": "af5195e0-eccb-483b-8ef7-52b1d22f7d53",
   "metadata": {},
   "outputs": [],
   "source": [
    "def generateVarbounds(sensor, image, r):\n",
    "    \n",
    "    \n",
    "    N = len(sensor) \n",
    "    \n",
    "    ix_n = np.arange(N)\n",
    "    \n",
    "    varbounds = [[0, image.shape[0]-1], [0,image.shape[1]-1]]*N\n",
    "    \n",
    "    #all the combinations\n",
    "    C = list(it.combinations(ix_n, r))\n",
    "    \n",
    "    varbounds.append([0, len(C)-1]) \n",
    "    \n",
    "    \n",
    "    \n",
    "    \n",
    "    return np.array(varbounds)"
   ]
  },
  {
   "cell_type": "code",
   "execution_count": 9,
   "id": "37e9d742-7371-439f-b885-03a2588097d1",
   "metadata": {},
   "outputs": [
    {
     "data": {
      "text/plain": [
       "[<matplotlib.lines.Line2D at 0x160ec0a30>]"
      ]
     },
     "execution_count": 9,
     "metadata": {},
     "output_type": "execute_result"
    },
    {
     "data": {
      "image/png": "[encoded data removed]",
      "text/plain": [
       "<Figure size 640x480 with 1 Axes>"
      ]
     },
     "metadata": {},
     "output_type": "display_data"
    }
   ],
   "source": [
    "plt.plot([len(list(it.combinations((0,1,2,3,4), i))) for i in [1,2,3,4,5] ])\n"
   ]
  },
  {
   "cell_type": "code",
   "execution_count": 10,
   "id": "ca058393-8e93-425a-b237-023b2114bc68",
   "metadata": {},
   "outputs": [
    {
     "data": {
      "text/plain": [
       "18290"
      ]
     },
     "execution_count": 10,
     "metadata": {},
     "output_type": "execute_result"
    }
   ],
   "source": [
    "((NTLI.shape[0]*NTLI.shape[1])**1)*5"
   ]
  },
  {
   "cell_type": "code",
   "execution_count": 11,
   "id": "2270d13c-40cb-4242-8c8a-81828489fa5b",
   "metadata": {},
   "outputs": [
    {
     "data": {
      "text/plain": [
       "133809640"
      ]
     },
     "execution_count": 11,
     "metadata": {},
     "output_type": "execute_result"
    }
   ],
   "source": [
    "((NTLI.shape[0]*NTLI.shape[1])**2)*10"
   ]
  },
  {
   "cell_type": "code",
   "execution_count": 12,
   "id": "8532cacf-3a4e-4d62-ba98-d1b9dd2b855e",
   "metadata": {},
   "outputs": [
    {
     "data": {
      "text/plain": [
       "489475663120"
      ]
     },
     "execution_count": 12,
     "metadata": {},
     "output_type": "execute_result"
    }
   ],
   "source": [
    "((NTLI.shape[0]*NTLI.shape[1])**3)*10"
   ]
  },
  {
   "cell_type": "code",
   "execution_count": 13,
   "id": "b8352b37-3501-4328-b399-3ad4490cbab7",
   "metadata": {},
   "outputs": [
    {
     "data": {
      "text/plain": [
       "895250987846480"
      ]
     },
     "execution_count": 13,
     "metadata": {},
     "output_type": "execute_result"
    }
   ],
   "source": [
    "((NTLI.shape[0]*NTLI.shape[1])**4)*5"
   ]
  },
  {
   "cell_type": "code",
   "execution_count": 14,
   "id": "bae4eaab-4cf3-42db-bf6e-6f99f6d9b9b9",
   "metadata": {},
   "outputs": [
    {
     "data": {
      "text/plain": [
       "654965622708484768"
      ]
     },
     "execution_count": 14,
     "metadata": {},
     "output_type": "execute_result"
    }
   ],
   "source": [
    "((NTLI.shape[0]*NTLI.shape[1])**5)*1"
   ]
  },
  {
   "cell_type": "code",
   "execution_count": 15,
   "id": "2efd4895-9546-48ba-94c1-34f70b8dd92e",
   "metadata": {},
   "outputs": [
    {
     "data": {
      "text/plain": [
       "[<matplotlib.lines.Line2D at 0x16193ceb0>]"
      ]
     },
     "execution_count": 15,
     "metadata": {},
     "output_type": "execute_result"
    },
    {
     "data": {
      "image/png": "[encoded data removed]",
      "text/plain": [
       "<Figure size 640x480 with 1 Axes>"
      ]
     },
     "metadata": {},
     "output_type": "display_data"
    }
   ],
   "source": [
    "plt.plot(np.log([18290,133809640,489475663120,895250987846480,654965622708484768]))"
   ]
  },
  {
   "cell_type": "code",
   "execution_count": 16,
   "id": "7de35d69-3285-4a13-ad7f-92c387820e94",
   "metadata": {},
   "outputs": [],
   "source": [
    "#: L number of sensors\n",
    "#: size of the field for the sensors\n",
    "#: size of the combination of selecting sensors without repetition\n",
    "vb  = generateVarbounds(L, FDNTLI, n)"
   ]
  },
  {
   "cell_type": "code",
   "execution_count": null,
   "id": "2a740d84-d17a-41ec-83b1-f1d4451d650e",
   "metadata": {},
   "outputs": [],
   "source": []
  },
  {
   "cell_type": "code",
   "execution_count": 17,
   "id": "22739cdd-c5b5-4bb9-8873-af5e722118ea",
   "metadata": {},
   "outputs": [],
   "source": [
    "algorithm_parameters = setup[\"ga_params\"]"
   ]
  },
  {
   "cell_type": "code",
   "execution_count": 18,
   "id": "66324ad5-9ec4-4832-a995-d7edcd358b48",
   "metadata": {},
   "outputs": [],
   "source": [
    "import random\n",
    "random_pos = [random.randint(r[0], r[1]) for r in vb]"
   ]
  },
  {
   "cell_type": "code",
   "execution_count": 19,
   "id": "44b08de1-66a4-4f3a-86cb-a04747b4772c",
   "metadata": {},
   "outputs": [
    {
     "data": {
      "text/plain": [
       "[49, 39, 20, 57, 49, 9, 42, 48, 5, 54, 3]"
      ]
     },
     "execution_count": 19,
     "metadata": {},
     "output_type": "execute_result"
    }
   ],
   "source": [
    "random_pos"
   ]
  },
  {
   "cell_type": "code",
   "execution_count": 20,
   "id": "9c0edc70-d09e-4ae1-82d8-a8e053116c65",
   "metadata": {},
   "outputs": [
    {
     "data": {
      "text/plain": [
       "11"
      ]
     },
     "execution_count": 20,
     "metadata": {},
     "output_type": "execute_result"
    }
   ],
   "source": [
    "len(random_pos)"
   ]
  },
  {
   "cell_type": "code",
   "execution_count": 21,
   "id": "928aa589-cbc8-420c-a935-93cbce327c6d",
   "metadata": {},
   "outputs": [],
   "source": [
    "X = random_pos"
   ]
  },
  {
   "cell_type": "code",
   "execution_count": 22,
   "id": "af099105-2fb4-4e22-9d70-a4ac48cbb4d7",
   "metadata": {},
   "outputs": [
    {
     "data": {
      "text/plain": [
       "[(0,), (1,), (2,), (3,), (4,)]"
      ]
     },
     "execution_count": 22,
     "metadata": {},
     "output_type": "execute_result"
    }
   ],
   "source": [
    "aptitude.c"
   ]
  },
  {
   "cell_type": "code",
   "execution_count": 23,
   "id": "e41c9754-32bc-4df1-b077-e589047655e2",
   "metadata": {},
   "outputs": [
    {
     "data": {
      "text/plain": [
       "(3,)"
      ]
     },
     "execution_count": 23,
     "metadata": {},
     "output_type": "execute_result"
    }
   ],
   "source": [
    "aptitude.c[X[-1]]"
   ]
  },
  {
   "cell_type": "code",
   "execution_count": 24,
   "id": "2f480c21-6c01-496e-a531-937ec8201f1e",
   "metadata": {},
   "outputs": [
    {
     "data": {
      "text/plain": [
       "array([34, 34, 34, 31, 35, 29, 36, 39, 39, 22])"
      ]
     },
     "execution_count": 24,
     "metadata": {},
     "output_type": "execute_result"
    }
   ],
   "source": [
    "aptitude.init_network"
   ]
  },
  {
   "cell_type": "code",
   "execution_count": null,
   "id": "b8abe1d4-6a69-4157-9639-9ff822d9a348",
   "metadata": {},
   "outputs": [],
   "source": []
  },
  {
   "cell_type": "code",
   "execution_count": null,
   "id": "7d7e2e99-9cd9-4704-aa68-0a00e8aad232",
   "metadata": {},
   "outputs": [],
   "source": []
  },
  {
   "cell_type": "code",
   "execution_count": 25,
   "id": "810fa133-91e7-431f-9461-7fc78c24feb6",
   "metadata": {},
   "outputs": [],
   "source": [
    "s_loc = np.zeros((NTLI.shape[0], NTLI.shape[1]))"
   ]
  },
  {
   "cell_type": "code",
   "execution_count": null,
   "id": "fd411865-8749-4624-a9f8-5df34f53ead4",
   "metadata": {},
   "outputs": [],
   "source": []
  },
  {
   "cell_type": "code",
   "execution_count": 26,
   "id": "7426dad1-a7b0-4b7d-931d-5cdfb407d8db",
   "metadata": {},
   "outputs": [
    {
     "data": {
      "text/plain": [
       "array([[0., 0., 0., ..., 0., 0., 0.],\n",
       "       [0., 0., 0., ..., 0., 0., 0.],\n",
       "       [0., 0., 0., ..., 0., 0., 0.],\n",
       "       ...,\n",
       "       [0., 0., 0., ..., 0., 0., 0.],\n",
       "       [0., 0., 0., ..., 0., 0., 0.],\n",
       "       [0., 0., 0., ..., 0., 0., 0.]])"
      ]
     },
     "execution_count": 26,
     "metadata": {},
     "output_type": "execute_result"
    }
   ],
   "source": [
    "s_loc"
   ]
  },
  {
   "cell_type": "code",
   "execution_count": null,
   "id": "0924d520-3181-45f5-9bdc-c619c9fb38a7",
   "metadata": {},
   "outputs": [],
   "source": []
  },
  {
   "cell_type": "code",
   "execution_count": null,
   "id": "dfe8d5b5-6386-4e4a-a5b3-3029f281833a",
   "metadata": {},
   "outputs": [],
   "source": []
  },
  {
   "cell_type": "code",
   "execution_count": null,
   "id": "86bc6a36-8b8a-4183-a8c6-8d19988e1848",
   "metadata": {},
   "outputs": [],
   "source": []
  },
  {
   "cell_type": "code",
   "execution_count": null,
   "id": "723d4930-5667-4ee2-b9eb-f404e568efc4",
   "metadata": {},
   "outputs": [],
   "source": []
  },
  {
   "cell_type": "code",
   "execution_count": null,
   "id": "a962be15-e257-4993-a7ae-5822788bed87",
   "metadata": {},
   "outputs": [],
   "source": []
  },
  {
   "cell_type": "code",
   "execution_count": 27,
   "id": "a5fc17c2-a657-46b8-a5e2-73ddedb7a5be",
   "metadata": {},
   "outputs": [
    {
     "data": {
      "text/plain": [
       "<matplotlib.image.AxesImage at 0x160a5f6a0>"
      ]
     },
     "execution_count": 27,
     "metadata": {},
     "output_type": "execute_result"
    },
    {
     "data": {
      "image/png": "[encoded data removed]",
      "text/plain": [
       "<Figure size 640x480 with 1 Axes>"
      ]
     },
     "metadata": {},
     "output_type": "display_data"
    }
   ],
   "source": [
    "plt.imshow(s_loc)"
   ]
  },
  {
   "cell_type": "code",
   "execution_count": null,
   "id": "07466b38-e06f-42da-9678-f218afafa66f",
   "metadata": {},
   "outputs": [],
   "source": []
  },
  {
   "cell_type": "code",
   "execution_count": null,
   "id": "88a51616-cf87-4899-bd75-f75f44763ab9",
   "metadata": {},
   "outputs": [],
   "source": []
  },
  {
   "cell_type": "code",
   "execution_count": null,
   "id": "a83b73f2-432e-461e-bffc-e8466d4af326",
   "metadata": {},
   "outputs": [],
   "source": []
  },
  {
   "cell_type": "code",
   "execution_count": null,
   "id": "7bb7dbdf-c46b-4535-b039-0868318e36c3",
   "metadata": {},
   "outputs": [],
   "source": []
  },
  {
   "cell_type": "code",
   "execution_count": null,
   "id": "702a90a4-ce54-42a2-a730-f53993272d7d",
   "metadata": {},
   "outputs": [],
   "source": []
  },
  {
   "cell_type": "code",
   "execution_count": null,
   "id": "91542157-a327-4491-8300-f7fb153c94fd",
   "metadata": {},
   "outputs": [],
   "source": []
  },
  {
   "cell_type": "code",
   "execution_count": 28,
   "id": "6f5f3280-7d34-4d39-97f3-fc40ed6bae1a",
   "metadata": {},
   "outputs": [
    {
     "name": "stdout",
     "output_type": "stream",
     "text": [
      " The best solution found:                                                                           \n",
      " [26. 33. 34. 42. 49.  2. 20. 57. 33. 24.  2.]\n",
      "\n",
      " Objective function:\n",
      " -0.7870164102245865\n"
     ]
    },
    {
     "data": {
      "image/png": "[encoded data removed]",
      "text/plain": [
       "<Figure size 640x480 with 1 Axes>"
      ]
     },
     "metadata": {},
     "output_type": "display_data"
    }
   ],
   "source": [
    "\n",
    "model=ga(function = f,\n",
    "         dimension = len(vb),\n",
    "         algorithm_parameters = algorithm_parameters,\n",
    "         variable_type = 'int',\n",
    "         variable_boundaries = vb,\n",
    "         convergence_curve = True\n",
    "        )\n",
    "\n",
    "model.run()"
   ]
  },
  {
   "cell_type": "code",
   "execution_count": null,
   "id": "cca01e3a-efa7-465e-acd0-038e07df6906",
   "metadata": {},
   "outputs": [],
   "source": []
  },
  {
   "cell_type": "code",
   "execution_count": 30,
   "id": "29bb31d0-8e03-4e1d-8e8a-18c3da26bb69",
   "metadata": {},
   "outputs": [
    {
     "data": {
      "text/plain": [
       "<matplotlib.image.AxesImage at 0x160b09880>"
      ]
     },
     "execution_count": 30,
     "metadata": {},
     "output_type": "execute_result"
    },
    {
     "data": {
      "image/png": "[encoded data removed]",
      "text/plain": [
       "<Figure size 640x480 with 1 Axes>"
      ]
     },
     "metadata": {},
     "output_type": "display_data"
    }
   ],
   "source": [
    "XX = np.array([34, 34, 34, 31, 49, 2, 36, 39, 39, 22])\n",
    "plt.imshow(aptitude.project(XX))"
   ]
  },
  {
   "cell_type": "code",
   "execution_count": 31,
   "id": "f9079ec7-a6f4-4f5d-a3a1-339c1fffa949",
   "metadata": {},
   "outputs": [
    {
     "data": {
      "text/plain": [
       "<matplotlib.image.AxesImage at 0x160bed4f0>"
      ]
     },
     "execution_count": 31,
     "metadata": {},
     "output_type": "execute_result"
    },
    {
     "data": {
      "image/png": "[encoded data removed]",
      "text/plain": [
       "<Figure size 640x480 with 1 Axes>"
      ]
     },
     "metadata": {},
     "output_type": "display_data"
    }
   ],
   "source": [
    "XX = aptitude.init_network\n",
    "plt.imshow(aptitude.project(XX))"
   ]
  },
  {
   "cell_type": "code",
   "execution_count": 32,
   "id": "40e6d640-3473-4483-8b43-05e332ec74d5",
   "metadata": {},
   "outputs": [
    {
     "data": {
      "text/plain": [
       "array([34, 34, 34, 31, 35, 29, 36, 39, 39, 22])"
      ]
     },
     "execution_count": 32,
     "metadata": {},
     "output_type": "execute_result"
    }
   ],
   "source": [
    "aptitude.init_network"
   ]
  },
  {
   "cell_type": "code",
   "execution_count": 33,
   "id": "5dc02184-accc-4bba-99c7-fea491fb5589",
   "metadata": {},
   "outputs": [],
   "source": [
    "empty_space = np.zeros((vb[0][1]+1,vb[1][1]+1))\n",
    "A = np.copy(aptitude.init_network)\n",
    "B = model.output_dict['variable']\n",
    "combinations = aptitude.c\n",
    "\n",
    "def plotSolution(sensor_list, X, combinations):\n",
    "    \n",
    "    \n",
    "    n = int(len(sensor_list)/2)\n",
    "    ix_rcs = int(X[-1])\n",
    "    \n",
    "    Z = combinations[ix_rcs]\n",
    "    \n",
    "\n",
    "    vect_selection = np.zeros(n)\n",
    "    vect_selection[np.array(Z)] = 1\n",
    "    \n",
    "    for ix, x in enumerate(vect_selection):\n",
    "    \n",
    "        if x == 1:\n",
    "            \n",
    "            sensor_list[ix*2:ix*2+2] = X[ix*2:ix*2+2]\n",
    "            \n",
    "    return sensor_list\n",
    "    \n",
    " \n",
    "    \n",
    "    \n",
    "    \n",
    "    \n",
    "    \n",
    "    \n",
    "    "
   ]
  },
  {
   "cell_type": "code",
   "execution_count": 34,
   "id": "8b8b42dd-24e3-40d0-afc5-cd2ca2ce5bf1",
   "metadata": {},
   "outputs": [
    {
     "data": {
      "text/plain": [
       "array([34, 34, 34, 31, 35, 29, 36, 39, 39, 22])"
      ]
     },
     "execution_count": 34,
     "metadata": {},
     "output_type": "execute_result"
    }
   ],
   "source": [
    "aptitude.init_network"
   ]
  },
  {
   "cell_type": "code",
   "execution_count": 35,
   "id": "93723b14-17b0-4f39-b6cd-4e80ffd895e1",
   "metadata": {},
   "outputs": [
    {
     "data": {
      "text/plain": [
       "array([34, 34, 34, 31, 35, 29, 36, 39, 39, 22])"
      ]
     },
     "execution_count": 35,
     "metadata": {},
     "output_type": "execute_result"
    }
   ],
   "source": [
    "A"
   ]
  },
  {
   "cell_type": "code",
   "execution_count": 36,
   "id": "23d79af0-33e3-4706-b279-88db338f5e19",
   "metadata": {},
   "outputs": [
    {
     "data": {
      "text/plain": [
       "array([26., 33., 34., 42., 49.,  2., 20., 57., 33., 24.,  2.])"
      ]
     },
     "execution_count": 36,
     "metadata": {},
     "output_type": "execute_result"
    }
   ],
   "source": [
    "B"
   ]
  },
  {
   "cell_type": "code",
   "execution_count": 37,
   "id": "49474a79-dc2a-426c-ba0e-efcc4fb93454",
   "metadata": {},
   "outputs": [
    {
     "data": {
      "text/plain": [
       "array([26., 33., 34., 42., 49.,  2., 20., 57., 33., 24.,  2.])"
      ]
     },
     "execution_count": 37,
     "metadata": {},
     "output_type": "execute_result"
    }
   ],
   "source": [
    "model.output_dict['variable']"
   ]
  },
  {
   "cell_type": "code",
   "execution_count": 38,
   "id": "b28af4b9-e0a7-4499-b498-f15bff5981b7",
   "metadata": {},
   "outputs": [],
   "source": [
    "new_net = plotSolution(A, B, combinations)\n",
    "\n",
    "\n",
    "    "
   ]
  },
  {
   "cell_type": "code",
   "execution_count": 39,
   "id": "ca6d1b83-8553-450e-bb72-cf782de05478",
   "metadata": {},
   "outputs": [
    {
     "data": {
      "text/plain": [
       "array([34, 34, 34, 31, 49,  2, 36, 39, 39, 22])"
      ]
     },
     "execution_count": 39,
     "metadata": {},
     "output_type": "execute_result"
    }
   ],
   "source": [
    "new_net"
   ]
  },
  {
   "cell_type": "code",
   "execution_count": 40,
   "id": "4b8b0d7b-6e29-4a5a-98e7-220fbcb093ca",
   "metadata": {},
   "outputs": [
    {
     "data": {
      "text/plain": [
       "array([34, 34, 34, 31, 35, 29, 36, 39, 39, 22])"
      ]
     },
     "execution_count": 40,
     "metadata": {},
     "output_type": "execute_result"
    }
   ],
   "source": [
    "aptitude.init_network"
   ]
  },
  {
   "cell_type": "code",
   "execution_count": null,
   "id": "8113ec55-eb30-428a-92a8-ed35acc19fa8",
   "metadata": {},
   "outputs": [],
   "source": []
  },
  {
   "cell_type": "code",
   "execution_count": 41,
   "id": "f9166c1c-5632-484b-8837-564fbf2301e2",
   "metadata": {},
   "outputs": [
    {
     "data": {
      "text/plain": [
       "(2,)"
      ]
     },
     "execution_count": 41,
     "metadata": {},
     "output_type": "execute_result"
    }
   ],
   "source": [
    "aptitude.c[int(model.output_dict['variable'][-1])]"
   ]
  },
  {
   "cell_type": "code",
   "execution_count": 42,
   "id": "6ea3cb02-4a1a-424e-969a-0c14e764afd8",
   "metadata": {},
   "outputs": [
    {
     "data": {
      "text/plain": [
       "<matplotlib.image.AxesImage at 0x160e2dfd0>"
      ]
     },
     "execution_count": 42,
     "metadata": {},
     "output_type": "execute_result"
    },
    {
     "data": {
      "image/png": "[encoded data removed]",
      "text/plain": [
       "<Figure size 640x480 with 1 Axes>"
      ]
     },
     "metadata": {},
     "output_type": "display_data"
    }
   ],
   "source": [
    "\n",
    "s_loc = np.zeros(NTLI.shape)\n",
    "psr = np.array(L).flatten().reshape(5, 2)\n",
    "indices = [tuple(p) for p in psr]\n",
    "for i in indices:\n",
    "    s_loc[i] = 1\n",
    "plt.imshow(s_loc*np.max(NTLI)+NTLI)"
   ]
  },
  {
   "cell_type": "code",
   "execution_count": 43,
   "id": "33198855-48a4-4794-b103-d6b93ca5f5a3",
   "metadata": {},
   "outputs": [
    {
     "data": {
      "text/plain": [
       "array([34, 34, 34, 31, 49,  2, 36, 39, 39, 22])"
      ]
     },
     "execution_count": 43,
     "metadata": {},
     "output_type": "execute_result"
    }
   ],
   "source": [
    "A"
   ]
  },
  {
   "cell_type": "code",
   "execution_count": 44,
   "id": "088c5369-61b6-40d3-bcab-10085b779a90",
   "metadata": {},
   "outputs": [
    {
     "data": {
      "text/plain": [
       "array([34, 34, 34, 31, 49,  2, 36, 39, 39, 22])"
      ]
     },
     "execution_count": 44,
     "metadata": {},
     "output_type": "execute_result"
    }
   ],
   "source": [
    "new_net"
   ]
  },
  {
   "cell_type": "code",
   "execution_count": 45,
   "id": "5992d2e2-2023-4357-8db0-cf2835c3f10f",
   "metadata": {},
   "outputs": [
    {
     "data": {
      "text/plain": [
       "<matplotlib.image.AxesImage at 0x16196b2e0>"
      ]
     },
     "execution_count": 45,
     "metadata": {},
     "output_type": "execute_result"
    },
    {
     "data": {
      "image/png": "[encoded data removed]",
      "text/plain": [
       "<Figure size 640x480 with 1 Axes>"
      ]
     },
     "metadata": {},
     "output_type": "display_data"
    }
   ],
   "source": [
    "\n",
    "s_loc = np.zeros(NTLI.shape)\n",
    "psr = new_net.reshape(5, 2)\n",
    "indices = [tuple(p) for p in psr]\n",
    "for i in indices:\n",
    "    s_loc[i] = 1\n",
    "plt.imshow(s_loc*np.max(NTLI)+NTLI)"
   ]
  },
  {
   "cell_type": "code",
   "execution_count": null,
   "id": "5cd8f14f-e04c-4dba-88f0-f47e574dce7b",
   "metadata": {},
   "outputs": [],
   "source": [
    "\n"
   ]
  },
  {
   "cell_type": "code",
   "execution_count": 46,
   "id": "447389fb-4f87-40c1-b356-3a1c41bd2f6f",
   "metadata": {},
   "outputs": [
    {
     "ename": "TypeError",
     "evalue": "tuple expected at most 1 argument, got 2",
     "output_type": "error",
     "traceback": [
      "\u001b[0;31m---------------------------------------------------------------------------\u001b[0m",
      "\u001b[0;31mTypeError\u001b[0m                                 Traceback (most recent call last)",
      "Cell \u001b[0;32mIn[46], line 4\u001b[0m\n\u001b[1;32m      1\u001b[0m \u001b[38;5;28;01mfor\u001b[39;00m p \u001b[38;5;129;01min\u001b[39;00m psr:\n\u001b[1;32m      3\u001b[0m     s_loc[\u001b[38;5;28mtuple\u001b[39m(p)] \u001b[38;5;241m=\u001b[39m \u001b[38;5;241m255\u001b[39m\n\u001b[0;32m----> 4\u001b[0m     s_loc[\u001b[38;5;28;43mtuple\u001b[39;49m\u001b[43m(\u001b[49m\u001b[43mp\u001b[49m\u001b[43m[\u001b[49m\u001b[38;5;241;43m0\u001b[39;49m\u001b[43m]\u001b[49m\u001b[43m,\u001b[49m\u001b[43m \u001b[49m\u001b[43mp\u001b[49m\u001b[43m[\u001b[49m\u001b[38;5;241;43m1\u001b[39;49m\u001b[43m]\u001b[49m\u001b[38;5;241;43m+\u001b[39;49m\u001b[38;5;241;43m1\u001b[39;49m\u001b[43m)\u001b[49m] \u001b[38;5;241m=\u001b[39m \u001b[38;5;241m1\u001b[39m\n\u001b[1;32m      5\u001b[0m     s_loc[\u001b[38;5;28mtuple\u001b[39m(p[\u001b[38;5;241m0\u001b[39m], p[\u001b[38;5;241m1\u001b[39m]\u001b[38;5;241m-\u001b[39m\u001b[38;5;241m1\u001b[39m)] \u001b[38;5;241m=\u001b[39m \u001b[38;5;241m1\u001b[39m\n\u001b[1;32m      6\u001b[0m     s_loc[\u001b[38;5;28mtuple\u001b[39m(p[\u001b[38;5;241m0\u001b[39m]\u001b[38;5;241m+\u001b[39m\u001b[38;5;241m1\u001b[39m, p[\u001b[38;5;241m1\u001b[39m])] \u001b[38;5;241m=\u001b[39m \u001b[38;5;241m1\u001b[39m\n",
      "\u001b[0;31mTypeError\u001b[0m: tuple expected at most 1 argument, got 2"
     ]
    }
   ],
   "source": [
    "for p in psr:\n",
    "\n",
    "    s_loc[tuple(p)] = 255\n",
    "    s_loc[tuple(p[0], p[1]+1)] = 1\n",
    "    s_loc[tuple(p[0], p[1]-1)] = 1\n",
    "    s_loc[tuple(p[0]+1, p[1])] = 1\n",
    "    s_loc[tuple(p[0]+1, p[1]-1)] = 1\n",
    "    s_loc[tuple(p[0]+1, p[1]+1)] = 1"
   ]
  },
  {
   "cell_type": "code",
   "execution_count": 47,
   "id": "1530fc7c-dc68-40b9-8547-c39f8592f06b",
   "metadata": {},
   "outputs": [
    {
     "data": {
      "text/plain": [
       "35"
      ]
     },
     "execution_count": 47,
     "metadata": {},
     "output_type": "execute_result"
    }
   ],
   "source": [
    "p[1]+1"
   ]
  },
  {
   "cell_type": "code",
   "execution_count": 48,
   "id": "69157c6b-9824-4f73-bf01-697a9753b519",
   "metadata": {},
   "outputs": [],
   "source": [
    "locations = (np.where(s_loc==1))"
   ]
  },
  {
   "cell_type": "code",
   "execution_count": 49,
   "id": "258fc4b7-deee-4664-848d-04a50178f5fd",
   "metadata": {},
   "outputs": [
    {
     "data": {
      "text/plain": [
       "array([ True,  True,  True,  True])"
      ]
     },
     "execution_count": 49,
     "metadata": {},
     "output_type": "execute_result"
    }
   ],
   "source": [
    "s_loc[locations]==1"
   ]
  },
  {
   "cell_type": "code",
   "execution_count": 50,
   "id": "448d8d3e-190c-4317-b509-11395372cf79",
   "metadata": {},
   "outputs": [
    {
     "data": {
      "text/plain": [
       "<matplotlib.image.AxesImage at 0x160b09f10>"
      ]
     },
     "execution_count": 50,
     "metadata": {},
     "output_type": "execute_result"
    },
    {
     "data": {
      "image/png": "[encoded data removed]",
      "text/plain": [
       "<Figure size 640x480 with 1 Axes>"
      ]
     },
     "metadata": {},
     "output_type": "display_data"
    }
   ],
   "source": [
    "plt.imshow(s_loc)"
   ]
  },
  {
   "cell_type": "code",
   "execution_count": 51,
   "id": "48307be2-293b-4274-84e2-f10b7148e9f9",
   "metadata": {},
   "outputs": [
    {
     "data": {
      "text/plain": [
       "<matplotlib.image.AxesImage at 0x16531da60>"
      ]
     },
     "execution_count": 51,
     "metadata": {},
     "output_type": "execute_result"
    },
    {
     "data": {
      "image/png": "[encoded data removed]",
      "text/plain": [
       "<Figure size 640x480 with 1 Axes>"
      ]
     },
     "metadata": {},
     "output_type": "display_data"
    }
   ],
   "source": [
    "XX = new_net\n",
    "plt.imshow(aptitude.project(XX))"
   ]
  },
  {
   "cell_type": "code",
   "execution_count": null,
   "id": "33b3344b-64de-4581-b01d-bf77182734a5",
   "metadata": {},
   "outputs": [],
   "source": []
  },
  {
   "cell_type": "code",
   "execution_count": null,
   "id": "2bc2cae4-bc37-4814-b4ab-74a422a697f7",
   "metadata": {},
   "outputs": [],
   "source": []
  },
  {
   "cell_type": "code",
   "execution_count": 27,
   "id": "d6d6192e-48c4-4169-abb1-d8e434174b3e",
   "metadata": {},
   "outputs": [
    {
     "data": {
      "text/plain": [
       "<mpl_toolkits.mplot3d.art3d.Poly3DCollection at 0x13984e340>"
      ]
     },
     "execution_count": 27,
     "metadata": {},
     "output_type": "execute_result"
    },
    {
     "data": {
      "image/png": "[encoded data removed]",
      "text/plain": [
       "<Figure size 640x480 with 2 Axes>"
      ]
     },
     "metadata": {},
     "output_type": "display_data"
    }
   ],
   "source": [
    "import matplotlib.pyplot as plt\n",
    "from mpl_toolkits.mplot3d import Axes3D\n",
    "import numpy as np\n",
    "\n",
    "# create a 21 x 21 vertex mesh\n",
    "xx, yy = np.meshgrid(np.linspace(0,1,20), np.linspace(0,1,30))\n",
    "\n",
    "# create some dummy data (20 x 20) for the image\n",
    "data = np.random.random((20, 30))\n",
    "\n",
    "# create vertices for a rotated mesh (3D rotation matrix)\n",
    "X = np.sqrt(1./3) * xx + np.sqrt(1./3) * yy\n",
    "X = xx\n",
    "Y = -np.sqrt(1./3) * xx + np.sqrt(1./3) * yy\n",
    "Y = yy\n",
    "Z = np.ones((30,20))*10\n",
    "Z1 = np.ones((30,20))*20\n",
    "\n",
    "# create the figure\n",
    "fig = plt.figure()\n",
    "\n",
    "# show the reference image\n",
    "ax1 = fig.add_subplot(121)\n",
    "ax1.imshow(data, cmap=plt.cm.BrBG, interpolation='nearest', origin='lower', extent=[0,1,0,1])\n",
    "\n",
    "# show the 3D rotated projection\n",
    "ax2 = fig.add_subplot(122, projection='3d')\n",
    "ax2.plot_surface(X, Y, Z, rstride=1, cstride=1, facecolors=plt.cm.BrBG(data.T), shade=False)\n",
    "ax2.plot_surface(X, Y, Z1, rstride=1, cstride=1, facecolors=plt.cm.BrBG(data.T), shade=False)"
   ]
  },
  {
   "cell_type": "code",
   "execution_count": 9,
   "id": "a895ba7b-77cb-4f90-9836-46eb8de25f42",
   "metadata": {},
   "outputs": [
    {
     "data": {
      "text/plain": [
       "(21, 21)"
      ]
     },
     "execution_count": 9,
     "metadata": {},
     "output_type": "execute_result"
    }
   ],
   "source": [
    "(np.sqrt(1./3) * xx - np.sqrt(1./3) * yy).shape"
   ]
  },
  {
   "cell_type": "code",
   "execution_count": 11,
   "id": "720ef943-74f9-403a-b733-113443a36150",
   "metadata": {},
   "outputs": [
    {
     "data": {
      "text/plain": [
       "array([[1., 1., 1., 1., 1., 1., 1., 1., 1., 1., 1., 1., 1., 1., 1., 1.,\n",
       "        1., 1., 1., 1., 1.],\n",
       "       [1., 1., 1., 1., 1., 1., 1., 1., 1., 1., 1., 1., 1., 1., 1., 1.,\n",
       "        1., 1., 1., 1., 1.],\n",
       "       [1., 1., 1., 1., 1., 1., 1., 1., 1., 1., 1., 1., 1., 1., 1., 1.,\n",
       "        1., 1., 1., 1., 1.],\n",
       "       [1., 1., 1., 1., 1., 1., 1., 1., 1., 1., 1., 1., 1., 1., 1., 1.,\n",
       "        1., 1., 1., 1., 1.],\n",
       "       [1., 1., 1., 1., 1., 1., 1., 1., 1., 1., 1., 1., 1., 1., 1., 1.,\n",
       "        1., 1., 1., 1., 1.],\n",
       "       [1., 1., 1., 1., 1., 1., 1., 1., 1., 1., 1., 1., 1., 1., 1., 1.,\n",
       "        1., 1., 1., 1., 1.],\n",
       "       [1., 1., 1., 1., 1., 1., 1., 1., 1., 1., 1., 1., 1., 1., 1., 1.,\n",
       "        1., 1., 1., 1., 1.],\n",
       "       [1., 1., 1., 1., 1., 1., 1., 1., 1., 1., 1., 1., 1., 1., 1., 1.,\n",
       "        1., 1., 1., 1., 1.],\n",
       "       [1., 1., 1., 1., 1., 1., 1., 1., 1., 1., 1., 1., 1., 1., 1., 1.,\n",
       "        1., 1., 1., 1., 1.],\n",
       "       [1., 1., 1., 1., 1., 1., 1., 1., 1., 1., 1., 1., 1., 1., 1., 1.,\n",
       "        1., 1., 1., 1., 1.],\n",
       "       [1., 1., 1., 1., 1., 1., 1., 1., 1., 1., 1., 1., 1., 1., 1., 1.,\n",
       "        1., 1., 1., 1., 1.],\n",
       "       [1., 1., 1., 1., 1., 1., 1., 1., 1., 1., 1., 1., 1., 1., 1., 1.,\n",
       "        1., 1., 1., 1., 1.],\n",
       "       [1., 1., 1., 1., 1., 1., 1., 1., 1., 1., 1., 1., 1., 1., 1., 1.,\n",
       "        1., 1., 1., 1., 1.],\n",
       "       [1., 1., 1., 1., 1., 1., 1., 1., 1., 1., 1., 1., 1., 1., 1., 1.,\n",
       "        1., 1., 1., 1., 1.],\n",
       "       [1., 1., 1., 1., 1., 1., 1., 1., 1., 1., 1., 1., 1., 1., 1., 1.,\n",
       "        1., 1., 1., 1., 1.],\n",
       "       [1., 1., 1., 1., 1., 1., 1., 1., 1., 1., 1., 1., 1., 1., 1., 1.,\n",
       "        1., 1., 1., 1., 1.],\n",
       "       [1., 1., 1., 1., 1., 1., 1., 1., 1., 1., 1., 1., 1., 1., 1., 1.,\n",
       "        1., 1., 1., 1., 1.],\n",
       "       [1., 1., 1., 1., 1., 1., 1., 1., 1., 1., 1., 1., 1., 1., 1., 1.,\n",
       "        1., 1., 1., 1., 1.],\n",
       "       [1., 1., 1., 1., 1., 1., 1., 1., 1., 1., 1., 1., 1., 1., 1., 1.,\n",
       "        1., 1., 1., 1., 1.],\n",
       "       [1., 1., 1., 1., 1., 1., 1., 1., 1., 1., 1., 1., 1., 1., 1., 1.,\n",
       "        1., 1., 1., 1., 1.],\n",
       "       [1., 1., 1., 1., 1., 1., 1., 1., 1., 1., 1., 1., 1., 1., 1., 1.,\n",
       "        1., 1., 1., 1., 1.]])"
      ]
     },
     "execution_count": 11,
     "metadata": {},
     "output_type": "execute_result"
    }
   ],
   "source": []
  },
  {
   "cell_type": "code",
   "execution_count": null,
   "id": "eace6464-2d59-4357-a9be-9d012978426e",
   "metadata": {},
   "outputs": [],
   "source": []
  }
 ],
 "metadata": {
  "kernelspec": {
   "display_name": "Python 3 (ipykernel)",
   "language": "python",
   "name": "python3"
  },
  "language_info": {
   "codemirror_mode": {
    "name": "ipython",
    "version": 3
   },
   "file_extension": ".py",
   "mimetype": "text/x-python",
   "name": "python",
   "nbconvert_exporter": "python",
   "pygments_lexer": "ipython3",
   "version": "3.9.16"
  }
 },
 "nbformat": 4,
 "nbformat_minor": 5
}
