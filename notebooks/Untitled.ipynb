{
 "cells": [
  {
   "cell_type": "markdown",
   "id": "4460820d-d25f-4b0a-84fd-4a94446d0910",
   "metadata": {},
   "source": [
    "# Testing the Aptitude Function"
   ]
  },
  {
   "cell_type": "code",
   "execution_count": 22,
   "id": "5b57c805-0a7e-4aa5-83c4-ce2842dfff61",
   "metadata": {},
   "outputs": [],
   "source": [
    "#!/usr/bin/env python3\n",
    "# -*- coding: utf-8 -*-\n",
    "\"\"\"\n",
    "Created on Fri May 27 22:15:13 2022\n",
    "\n",
    "@author: rodrigo\n",
    "\"\"\"\n",
    "\n",
    "#Cargando librerías \n",
    "import importlib\n",
    "\n",
    "import matplotlib.pyplot as plt\n",
    "import scipy as sp\n",
    "import numpy as np\n",
    "import pandas as pd\n",
    "import os\n",
    "import sys  \n",
    "\n",
    "root = os.getcwd() + \"/..\"\n",
    "\n",
    "sys.path.insert(0, root)\n",
    "\n",
    "import src.positioning_sensors as ps\n",
    "importlib.reload(ps)\n",
    "\n",
    "import src.network_fitness as netfit\n",
    "importlib.reload(netfit)\n",
    "\n",
    "import src.manageExperiments as me\n",
    "importlib.reload(me)\n",
    "\n",
    "import config.config as cfg\n",
    "importlib.reload(cfg)\n",
    "\n",
    "from geneticalgorithm import geneticalgorithm as ga\n",
    "\n",
    "import itertools as it\n",
    "\n",
    "#read_global_variables\n",
    "\n",
    "plt.style.use(\"ggplot\")"
   ]
  },
  {
   "cell_type": "code",
   "execution_count": 23,
   "id": "28208886-d770-4c8a-bdbe-c1737c54d6d5",
   "metadata": {},
   "outputs": [],
   "source": [
    "fn = \"linz_with_init_net_exp_2.txt\"\n",
    "\n",
    "setup = me.readConfigFile(fn)\n",
    "\n",
    "\n",
    "#cargamos imagenes en luminance e importance\n",
    "ilumina = setup[\"folder_input\"] + setup[\"input_ntli\"]\n",
    "niveles = setup[\"folder_input\"] + setup[\"input_evm\"]\n",
    "\n",
    "#coeficientes de suavizado para la imagen nocturna\n",
    "sigma_y = setup['filterg_sy']\n",
    "sigma_x = setup['filterg_sx']\n",
    "sigma = [sigma_y,sigma_x]\n",
    "\n",
    "#Loading precalculated local and directed empirical variograms\n",
    "path2output_semivars = (cfg.experiment \n",
    "          + setup[\"experiment_id\"]\n",
    "          + setup[\"folder_semivariances\"]\n",
    "          + setup[\"output_semivariances\"] \n",
    "                       )\n",
    "\n",
    "\n",
    "filesv = path2output_semivars + \".csv\"\n",
    "filesvmask = path2output_semivars + \"mask.csv\"\n",
    "\n",
    "path2optimum_values_file = (cfg.experiment \n",
    "                           + setup[\"experiment_id\"] \n",
    "                           + setup[\"folder_output\"] \n",
    "                           )\n",
    "\n",
    "saveOptimumValuesTofile = (path2optimum_values_file\n",
    "                           + setup[\"output_values\"]\n",
    "                          )\n",
    "\n",
    "saveArgsTofile = (path2optimum_values_file\n",
    "                  + setup[\"output_args\"]\n",
    "                 )\n",
    "\n",
    "ilumina = cfg.data + setup[\"folder_input\"] + setup[\"input_ntli\"]\n",
    "niveles = cfg.data + setup[\"folder_input\"] + setup[\"input_evm\"]\n"
   ]
  },
  {
   "cell_type": "code",
   "execution_count": 24,
   "id": "11b1159d-059f-4c93-9c25-35b537b71a40",
   "metadata": {},
   "outputs": [],
   "source": [
    "data = pd.read_csv(filesv)"
   ]
  },
  {
   "cell_type": "code",
   "execution_count": 25,
   "id": "ae4d197d-597f-4a2c-9e55-6e563db69052",
   "metadata": {},
   "outputs": [
    {
     "data": {
      "text/plain": [
       "Index(['Unnamed: 0', 'coordsy', 'coordsx', '0', '1', '2'], dtype='object')"
      ]
     },
     "execution_count": 25,
     "metadata": {},
     "output_type": "execute_result"
    }
   ],
   "source": [
    "data.columns[:6]"
   ]
  },
  {
   "cell_type": "code",
   "execution_count": 26,
   "id": "cd701caf-9188-44dd-bf6b-b8712437e511",
   "metadata": {},
   "outputs": [],
   "source": [
    "#loading the mask of the semivariances\n",
    "data_m = pd.read_csv(filesvmask)\n",
    "\n",
    "#we select the variograms from the table\n",
    "variogram_set = np.array(data.iloc[:,3:])\n",
    "\n",
    "#we select the variogram mask from the table\n",
    "variogram_set_m = np.array(data_m.iloc[:, 3:])\n",
    "\n"
   ]
  },
  {
   "cell_type": "code",
   "execution_count": 27,
   "id": "f508e0d8-e1fb-48f4-8545-72d06bc13546",
   "metadata": {},
   "outputs": [],
   "source": [
    "#we smooth a to remove noice\n",
    "NTLI = ps.readIMG(ilumina)\n",
    "FDNTLI = sp.ndimage.gaussian_filter(NTLI,sigma, mode = setup['gaussian_mode'])"
   ]
  },
  {
   "cell_type": "code",
   "execution_count": 28,
   "id": "062e2840-233d-49e7-87ad-0e5614a65be9",
   "metadata": {},
   "outputs": [
    {
     "data": {
      "text/plain": [
       "<matplotlib.image.AxesImage at 0x131ade430>"
      ]
     },
     "execution_count": 28,
     "metadata": {},
     "output_type": "execute_result"
    },
    {
     "data": {
      "image/png": "[encoded data removed]",
      "text/plain": [
       "<Figure size 640x480 with 1 Axes>"
      ]
     },
     "metadata": {},
     "output_type": "display_data"
    }
   ],
   "source": [
    "plt.imshow(FDNTLI)"
   ]
  },
  {
   "cell_type": "code",
   "execution_count": 29,
   "id": "889f0886-198c-4a5c-9a0d-d69aae8fcf53",
   "metadata": {},
   "outputs": [],
   "source": [
    "#Environmental Map\n",
    "EAM = ps.readIMG(niveles, invert = True)"
   ]
  },
  {
   "cell_type": "code",
   "execution_count": 30,
   "id": "fd3c5271-e7c6-49fb-b330-e065d158c045",
   "metadata": {},
   "outputs": [
    {
     "data": {
      "text/plain": [
       "<matplotlib.image.AxesImage at 0x13199e910>"
      ]
     },
     "execution_count": 30,
     "metadata": {},
     "output_type": "execute_result"
    },
    {
     "data": {
      "image/png": "[encoded data removed]",
      "text/plain": [
       "<Figure size 640x480 with 1 Axes>"
      ]
     },
     "metadata": {},
     "output_type": "display_data"
    }
   ],
   "source": [
    "plt.imshow(EAM)"
   ]
  },
  {
   "cell_type": "code",
   "execution_count": null,
   "id": "b9ffb5aa-2697-4f35-883a-9dd3fa9f73d8",
   "metadata": {},
   "outputs": [],
   "source": []
  }
 ],
 "metadata": {
  "kernelspec": {
   "display_name": "Python 3 (ipykernel)",
   "language": "python",
   "name": "python3"
  },
  "language_info": {
   "codemirror_mode": {
    "name": "ipython",
    "version": 3
   },
   "file_extension": ".py",
   "mimetype": "text/x-python",
   "name": "python",
   "nbconvert_exporter": "python",
   "pygments_lexer": "ipython3",
   "version": "3.9.16"
  }
 },
 "nbformat": 4,
 "nbformat_minor": 5
}
