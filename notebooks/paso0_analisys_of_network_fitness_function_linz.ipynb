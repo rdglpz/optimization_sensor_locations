{
 "cells": [
  {
   "cell_type": "code",
   "execution_count": 89,
   "id": "40118634",
   "metadata": {},
   "outputs": [],
   "source": [
    "#Cargando librerías \n",
    "\n",
    "from IPython.display import clear_output\n",
    "import importlib\n",
    "\n",
    "from PIL import Image\n",
    "import matplotlib.pyplot as plt\n",
    "import scipy as sp\n",
    "#from scipy import ndimage as ndi\n",
    "import numpy as np\n",
    "import pandas as pd\n",
    "import os\n",
    "import sys  \n",
    "\n",
    "from skimage.draw import line\n",
    "\n",
    "root = os.getcwd() + \"/..\"\n",
    "\n",
    "\n",
    "print(\"Root of the project:\", root)"
   ]
  },
  {
   "cell_type": "code",
   "execution_count": 205,
   "id": "063de53d-1d88-4c26-9742-4debefe25794",
   "metadata": {},
   "outputs": [
    {
     "name": "stdout",
     "output_type": "stream",
     "text": [
      "Root of the project: /Users/rodrigo/SourcesCodes/GitHub/light pollution sensor locations/optimization_sensor_locations_with_constraints/notebooks/..\n"
     ]
    }
   ],
   "source": []
  },
  {
   "cell_type": "code",
   "execution_count": 91,
   "id": "0a5054cb-48c7-445c-9498-9ead189007a7",
   "metadata": {},
   "outputs": [],
   "source": [
    "\n",
    "sys.path.insert(0, root)\n",
    "\n",
    "\n",
    "import src.positioning_sensors as ps\n",
    "importlib.reload(ps)\n",
    "\n",
    "import src.regionGrowing as rg\n",
    "importlib.reload(rg)\n",
    "\n",
    "import src.manageExperiments as me\n",
    "importlib.reload(me)\n",
    "\n",
    "import config.config as cfg\n",
    "importlib.reload(cfg)\n",
    "\n",
    "\n",
    "from skimage.segmentation import watershed\n",
    "from skimage.feature import peak_local_max\n",
    "from skimage.filters import rank"
   ]
  },
  {
   "cell_type": "code",
   "execution_count": 92,
   "id": "e8ef8f4a-c918-4884-bb49-ae893b5fbe68",
   "metadata": {},
   "outputs": [],
   "source": [
    "#We read the configuration of the experiment file\n",
    "#we create the directory of the experiments\n"
   ]
  },
  {
   "cell_type": "markdown",
   "id": "fc4e3de0-7a9e-44bc-bd8f-cc43a1d2e8ac",
   "metadata": {},
   "source": [
    "```\n",
    "linz_experiment_with_initial_positions_no\n",
    "├── linz_with_init_net_exp_2.txt\n",
    "├── results\n",
    "└── semivariances\n",
    "```"
   ]
  },
  {
   "cell_type": "code",
   "execution_count": 93,
   "id": "777c156a-fd7d-458b-a326-63e866d823d0",
   "metadata": {},
   "outputs": [
    {
     "name": "stdout",
     "output_type": "stream",
     "text": [
      "Read File: ../experiments/linz_with_init_net_exp_2.txt\n",
      "Creating Directory in: ../experiments/linz_experiment_with_initial_positions_no2/\n",
      "Creating Directory ../experiments/linz_experiment_with_initial_positions_no2/results/\n",
      "Creating Directory: ../experiments/linz_experiment_with_initial_positions_no2/semivariances/\n",
      "Copy linz_with_init_net_exp_2.txt -> ../experiments/linz_experiment_with_initial_positions_no2/linz_with_init_net_exp_2.txt\n"
     ]
    }
   ],
   "source": [
    "\n",
    "fn = \"linz_with_init_net_exp_2.txt\"\n",
    "me.createProject(fn)"
   ]
  },
  {
   "cell_type": "code",
   "execution_count": 94,
   "id": "f657be6b-bef1-48ab-86e3-ae435a437c06",
   "metadata": {},
   "outputs": [],
   "source": [
    "setup = me.readConfigFile(fn)"
   ]
  },
  {
   "cell_type": "code",
   "execution_count": 95,
   "id": "6f99b59d-6b42-4e4c-a4b6-17c3c0c01c8c",
   "metadata": {},
   "outputs": [
    {
     "name": "stdout",
     "output_type": "stream",
     "text": [
      "True\n"
     ]
    }
   ],
   "source": [
    "flat_means_decrease = bool(setup['flatness_means_decrease'])\n",
    "print(flat_means_decrease)"
   ]
  },
  {
   "cell_type": "code",
   "execution_count": 96,
   "id": "11f7149a-f0ec-44b7-96d8-4bcacf85e089",
   "metadata": {},
   "outputs": [
    {
     "name": "stdout",
     "output_type": "stream",
     "text": [
      "locations/linz/world_atlas_linzn\n",
      "locations/linz/linz_prioridades\n"
     ]
    },
    {
     "data": {
      "text/plain": [
       "<matplotlib.image.AxesImage at 0x1664a7520>"
      ]
     },
     "execution_count": 96,
     "metadata": {},
     "output_type": "execute_result"
    },
    {
     "data": {
      "image/png": "[encoded data removed]",
      "text/plain": [
       "<Figure size 640x480 with 1 Axes>"
      ]
     },
     "metadata": {},
     "output_type": "display_data"
    }
   ],
   "source": [
    "#cargamos imagenes en luminance e importance\n",
    "\n",
    "print(setup[\"folder_input\"] + setup[\"input_ntli\"])\n",
    "print(setup[\"folder_input\"] + setup[\"input_evm\"])\n",
    "\n",
    "ilumina = cfg.data + setup[\"folder_input\"] + setup[\"input_ntli\"]\n",
    "niveles = cfg.data + setup[\"folder_input\"] + setup[\"input_evm\"]\n",
    "\n",
    "img = niveles\n",
    "im1 = np.array(Image.open(img))\n",
    "\n",
    "plt.imshow(im1)"
   ]
  },
  {
   "cell_type": "code",
   "execution_count": null,
   "id": "74adf34d-8b18-4317-a6a9-7315decd2d64",
   "metadata": {},
   "outputs": [],
   "source": []
  },
  {
   "cell_type": "code",
   "execution_count": 97,
   "id": "57cc40ae-505e-42c1-9d26-b9d06b365c82",
   "metadata": {},
   "outputs": [],
   "source": [
    "net = setup[\"init_fixed_net\"]"
   ]
  },
  {
   "cell_type": "code",
   "execution_count": 98,
   "id": "7d2beaad-60af-4f3d-a3b4-7671fc559664",
   "metadata": {},
   "outputs": [
    {
     "data": {
      "text/plain": [
       "[[34, 34], [34, 31], [35, 29], [36, 39], [39, 22]]"
      ]
     },
     "execution_count": 98,
     "metadata": {},
     "output_type": "execute_result"
    }
   ],
   "source": [
    "net"
   ]
  },
  {
   "cell_type": "code",
   "execution_count": 99,
   "id": "61fed99b-e226-478d-9c85-b3d1b064d17a",
   "metadata": {},
   "outputs": [],
   "source": [
    "#NTLI: luminance\n",
    "NTLI = ps.readIMG(ilumina)\n",
    "\n",
    "#EAM: Environtmental attention map is the importance\n",
    "EAM = ps.readIMG(niveles, invert = True)\n",
    "\n",
    "th = int(setup[\"desaturation_th\"])"
   ]
  },
  {
   "cell_type": "code",
   "execution_count": 100,
   "id": "ac669b62-ccd7-4f07-972f-f03329aad5d5",
   "metadata": {},
   "outputs": [
    {
     "data": {
      "text/plain": [
       "'linz_prioridades'"
      ]
     },
     "execution_count": 100,
     "metadata": {},
     "output_type": "execute_result"
    }
   ],
   "source": [
    "setup[\"input_evm\"]"
   ]
  },
  {
   "cell_type": "code",
   "execution_count": 102,
   "id": "3c9c3288-c116-4d29-81e4-e50a71fae126",
   "metadata": {},
   "outputs": [
    {
     "data": {
      "text/plain": [
       "<matplotlib.image.AxesImage at 0x16650cd60>"
      ]
     },
     "execution_count": 102,
     "metadata": {},
     "output_type": "execute_result"
    },
    {
     "data": {
      "image/png": "[encoded data removed]",
      "text/plain": [
       "<Figure size 640x480 with 1 Axes>"
      ]
     },
     "metadata": {},
     "output_type": "display_data"
    }
   ],
   "source": [
    "plt.imshow(NTLI)"
   ]
  },
  {
   "cell_type": "code",
   "execution_count": null,
   "id": "a04922fc-4b81-497e-b2b0-dd6a03522bda",
   "metadata": {},
   "outputs": [],
   "source": []
  },
  {
   "cell_type": "code",
   "execution_count": null,
   "id": "d14dacfa-1ac3-4aaf-a064-6a0b75a710ff",
   "metadata": {},
   "outputs": [],
   "source": []
  },
  {
   "cell_type": "code",
   "execution_count": 103,
   "id": "68ae1c80-38ab-4ed8-ad4c-0e69f5d6e3bd",
   "metadata": {},
   "outputs": [
    {
     "data": {
      "text/plain": [
       "5.0428257"
      ]
     },
     "execution_count": 103,
     "metadata": {},
     "output_type": "execute_result"
    }
   ],
   "source": [
    "np.max(NTLI)"
   ]
  },
  {
   "cell_type": "code",
   "execution_count": 227,
   "id": "66cfd075-19de-4998-97ce-d4eeca869c5e",
   "metadata": {},
   "outputs": [],
   "source": [
    "EAM = (EAM>0)*1"
   ]
  },
  {
   "cell_type": "code",
   "execution_count": 228,
   "id": "5ac2082f-261b-45d0-8d14-ff26e029835a",
   "metadata": {},
   "outputs": [
    {
     "data": {
      "text/plain": [
       "3658"
      ]
     },
     "execution_count": 228,
     "metadata": {},
     "output_type": "execute_result"
    }
   ],
   "source": [
    "np.shape(EAM)[0]*np.shape(EAM)[1]"
   ]
  },
  {
   "cell_type": "code",
   "execution_count": 229,
   "id": "ff7eb56d-8454-4e23-8285-c220fbf875e8",
   "metadata": {},
   "outputs": [],
   "source": [
    "EAM[EAM==255]=1.0\n",
    "\n",
    "EAMC = np.copy(EAM)"
   ]
  },
  {
   "cell_type": "code",
   "execution_count": 230,
   "id": "071c580f-2036-4eeb-9c01-f9f3f46a55c8",
   "metadata": {},
   "outputs": [],
   "source": [
    "for n in net:\n",
    "    EAMC[tuple(n)]=0"
   ]
  },
  {
   "cell_type": "code",
   "execution_count": null,
   "id": "3f23fa94-a7ea-4dc7-b39d-d9505e276428",
   "metadata": {},
   "outputs": [],
   "source": []
  },
  {
   "cell_type": "code",
   "execution_count": 234,
   "id": "dfd1b6dc-4150-4c4d-b4ba-435527840920",
   "metadata": {},
   "outputs": [
    {
     "data": {
      "text/plain": [
       "<matplotlib.image.AxesImage at 0x161310d30>"
      ]
     },
     "execution_count": 234,
     "metadata": {},
     "output_type": "execute_result"
    },
    {
     "data": {
      "image/png": "[encoded data removed]",
      "text/plain": [
       "<Figure size 640x480 with 1 Axes>"
      ]
     },
     "metadata": {},
     "output_type": "display_data"
    }
   ],
   "source": [
    "plt.imshow(EAM)\n",
    "\n"
   ]
  },
  {
   "cell_type": "code",
   "execution_count": 236,
   "id": "165242f4-341a-441e-a669-631c198e070f",
   "metadata": {},
   "outputs": [
    {
     "data": {
      "text/plain": [
       "63"
      ]
     },
     "execution_count": 236,
     "metadata": {},
     "output_type": "execute_result"
    }
   ],
   "source": [
    "th"
   ]
  },
  {
   "cell_type": "code",
   "execution_count": 235,
   "id": "13b31402-edf6-4db3-a382-207974b9ce38",
   "metadata": {},
   "outputs": [
    {
     "data": {
      "text/plain": [
       "<matplotlib.image.AxesImage at 0x161201970>"
      ]
     },
     "execution_count": 235,
     "metadata": {},
     "output_type": "execute_result"
    },
    {
     "data": {
      "image/png": "[encoded data removed]",
      "text/plain": [
       "<Figure size 640x480 with 1 Axes>"
      ]
     },
     "metadata": {},
     "output_type": "display_data"
    }
   ],
   "source": [
    "DNTLI, distance = ps.desaturate(NTLI, th = th)\n",
    "\n",
    "plt.imshow(DNTLI*EAMC)"
   ]
  },
  {
   "cell_type": "code",
   "execution_count": 132,
   "id": "4a570219-b97f-44af-b0e3-32bc186b6acf",
   "metadata": {},
   "outputs": [],
   "source": [
    "#smoothing parameters\n",
    "sigma_y = setup['filterg_sy']\n",
    "sigma_x =setup['filterg_sx']\n",
    "sigma = [sigma_y, sigma_x]\n",
    "\n",
    "FDNTLI = sp.ndimage.gaussian_filter(NTLI, \n",
    "                                    sigma, \n",
    "                                    mode = setup['gaussian_mode']\n",
    "                                   )\n"
   ]
  },
  {
   "cell_type": "code",
   "execution_count": null,
   "id": "cc4aadcf-30a0-4e5e-82a5-3f18016b4d00",
   "metadata": {},
   "outputs": [],
   "source": [
    "\n"
   ]
  },
  {
   "cell_type": "code",
   "execution_count": null,
   "id": "9e7f6807-4359-4ca3-b222-7b8f54685cee",
   "metadata": {},
   "outputs": [],
   "source": []
  },
  {
   "cell_type": "code",
   "execution_count": 150,
   "id": "91e446a9-0aca-41ae-bf4c-ebe341ae154e",
   "metadata": {},
   "outputs": [],
   "source": [
    "fxn = setup[\"init_fixed_net\"]"
   ]
  },
  {
   "cell_type": "code",
   "execution_count": null,
   "id": "44702a4a-5d8b-4bcb-b335-3af32af9930d",
   "metadata": {},
   "outputs": [],
   "source": []
  },
  {
   "cell_type": "code",
   "execution_count": 160,
   "id": "c2c712f7-7ed8-4e52-a280-ea706918946d",
   "metadata": {},
   "outputs": [
    {
     "data": {
      "text/plain": [
       "<matplotlib.image.AxesImage at 0x1673a2df0>"
      ]
     },
     "execution_count": 160,
     "metadata": {},
     "output_type": "execute_result"
    },
    {
     "data": {
      "image/png": "[encoded data removed]",
      "text/plain": [
       "<Figure size 640x480 with 1 Axes>"
      ]
     },
     "metadata": {},
     "output_type": "display_data"
    }
   ],
   "source": [
    "FDNTLI_LINZ = np.copy(FDNTLI)\n",
    "\n",
    "for i in range(len(fxn)):\n",
    "    \n",
    "    si = tuple(fxn[i])\n",
    "    FDNTLI_LINZ[si] = np.max(FDNTLI_LINZ)\n",
    "\n",
    "plt.imshow(FDNTLI_LINZ)\n"
   ]
  },
  {
   "cell_type": "code",
   "execution_count": 161,
   "id": "1ea474b8-21d7-446d-b4d1-5da773ea2b30",
   "metadata": {},
   "outputs": [
    {
     "data": {
      "text/plain": [
       "[<matplotlib.lines.Line2D at 0x167440790>]"
      ]
     },
     "execution_count": 161,
     "metadata": {},
     "output_type": "execute_result"
    },
    {
     "data": {
      "image/png": "[encoded data removed]",
      "text/plain": [
       "<Figure size 640x480 with 1 Axes>"
      ]
     },
     "metadata": {},
     "output_type": "display_data"
    }
   ],
   "source": [
    "i = 1\n",
    "r = si[i]\n",
    "#plt.plot(NTLI[si[0],si[1]-r:si[1]+r+1])\n",
    "plt.plot(NTLI[si[0], si[1] - r:si[1] + r + 1])\n",
    "plt.plot(FDNTLI[si[0], si[1] - r:si[1] + r + 1])\n",
    "#plt.vlines(si[1],0,np.max(nonsat2[si[0],:]))\n"
   ]
  },
  {
   "cell_type": "code",
   "execution_count": 162,
   "id": "ac29b399-f62c-4165-9165-783d33c54a75",
   "metadata": {},
   "outputs": [
    {
     "data": {
      "text/plain": [
       "<matplotlib.image.AxesImage at 0x167483ca0>"
      ]
     },
     "execution_count": 162,
     "metadata": {},
     "output_type": "execute_result"
    },
    {
     "data": {
      "image/png": "[encoded data removed]",
      "text/plain": [
       "<Figure size 640x480 with 1 Axes>"
      ]
     },
     "metadata": {},
     "output_type": "display_data"
    }
   ],
   "source": [
    "plt.imshow(EAM)"
   ]
  },
  {
   "cell_type": "code",
   "execution_count": 163,
   "id": "5be1ed95-aae1-4101-9581-d59dda7cb057",
   "metadata": {},
   "outputs": [],
   "source": [
    "EAM = EAM.astype(float)"
   ]
  },
  {
   "cell_type": "code",
   "execution_count": 238,
   "id": "130e8c81-f381-4055-8e0a-82addcb81293",
   "metadata": {},
   "outputs": [
    {
     "data": {
      "text/plain": [
       "2147"
      ]
     },
     "execution_count": 238,
     "metadata": {},
     "output_type": "execute_result"
    }
   ],
   "source": [
    "np.sum(EAM)"
   ]
  },
  {
   "cell_type": "code",
   "execution_count": null,
   "id": "50d881d3-13cb-4cee-8098-5ffb20d4afb3",
   "metadata": {},
   "outputs": [],
   "source": []
  },
  {
   "cell_type": "code",
   "execution_count": 166,
   "id": "7271007d-0ed6-466d-bfa4-b94595051806",
   "metadata": {},
   "outputs": [
    {
     "data": {
      "text/plain": [
       "0.2"
      ]
     },
     "execution_count": 166,
     "metadata": {},
     "output_type": "execute_result"
    }
   ],
   "source": [
    "setup[\"neglect_values\"]"
   ]
  },
  {
   "cell_type": "code",
   "execution_count": 170,
   "id": "7a8e69c9-b7e9-4dc7-8205-138f70b59239",
   "metadata": {},
   "outputs": [
    {
     "data": {
      "text/plain": [
       "<matplotlib.image.AxesImage at 0x1674fc970>"
      ]
     },
     "execution_count": 170,
     "metadata": {},
     "output_type": "execute_result"
    },
    {
     "data": {
      "image/png": "[encoded data removed]",
      "text/plain": [
       "<Figure size 640x480 with 1 Axes>"
      ]
     },
     "metadata": {},
     "output_type": "display_data"
    }
   ],
   "source": []
  },
  {
   "cell_type": "code",
   "execution_count": 206,
   "id": "637ccbb0-2dba-487b-8dd6-877baa62a998",
   "metadata": {},
   "outputs": [],
   "source": [
    "coords = ps.get_coords(EAM > 0)"
   ]
  },
  {
   "cell_type": "code",
   "execution_count": null,
   "id": "8e445b65-49fa-4af8-a224-73379cc6f41f",
   "metadata": {},
   "outputs": [],
   "source": [
    "\n"
   ]
  },
  {
   "cell_type": "code",
   "execution_count": 207,
   "id": "27e8af02-e135-46d5-b3d8-72555b705364",
   "metadata": {},
   "outputs": [],
   "source": [
    "#fill the required params\n",
    "#si = (28,19)\n",
    "\n",
    "params = {\"type\": \"semivar\", \n",
    "          \"atol\": setup[\"tolerance_angle\"], \n",
    "          \"dtol\": setup[\"tolerance_distance\"]}\n",
    "\n",
    "\n",
    "sv = np.zeros(FDNTLI.shape)\n",
    "\n",
    "#tell to the class, which object is going to be used to make the semivariogram\n",
    "\n",
    "rG = rg.rGrowing(FDNTLI)\n",
    "\n",
    "rG.setParams(params)\n",
    "\n",
    "n = len(coords)\n",
    "\n",
    "#ncords x imagesize m x n\n",
    "image_size = (n, FDNTLI.shape[0]*FDNTLI.shape[1])\n",
    "allsemivariances = np.zeros(image_size)\n",
    "allmask = np.zeros(image_size)\n",
    "\n",
    "\n",
    "df = pd.DataFrame()\n",
    "\n"
   ]
  },
  {
   "cell_type": "code",
   "execution_count": null,
   "id": "832affc6-aada-4bc7-9474-3d820eb5a170",
   "metadata": {},
   "outputs": [],
   "source": []
  },
  {
   "cell_type": "code",
   "execution_count": 208,
   "id": "427aff1f-1b6e-4172-969f-9572906b33da",
   "metadata": {},
   "outputs": [
    {
     "data": {
      "text/plain": [
       "<matplotlib.image.AxesImage at 0x1603aba60>"
      ]
     },
     "execution_count": 208,
     "metadata": {},
     "output_type": "execute_result"
    },
    {
     "data": {
      "image/png": "[encoded data removed]",
      "text/plain": [
       "<Figure size 640x480 with 1 Axes>"
      ]
     },
     "metadata": {},
     "output_type": "display_data"
    }
   ],
   "source": [
    "sv = rG.makeSemivarianceMap(si)\n",
    "svc = np.copy(sv)\n",
    "svc[si] = np.max(sv)\n",
    "plt.imshow(svc)"
   ]
  },
  {
   "cell_type": "code",
   "execution_count": null,
   "id": "22d62100-fd9d-464b-b7e5-2c8398c5f863",
   "metadata": {},
   "outputs": [],
   "source": []
  },
  {
   "cell_type": "code",
   "execution_count": null,
   "id": "2b5ad35f-19e5-40ce-87d6-e028471dae73",
   "metadata": {},
   "outputs": [],
   "source": []
  },
  {
   "cell_type": "code",
   "execution_count": 209,
   "id": "39fa5fc1-7cf6-4e71-b308-09074581928d",
   "metadata": {},
   "outputs": [],
   "source": [
    "svf = sv.flatten()"
   ]
  },
  {
   "cell_type": "code",
   "execution_count": null,
   "id": "6e14542a-4ec8-43f2-bbbf-f4f82f0608e5",
   "metadata": {},
   "outputs": [],
   "source": []
  },
  {
   "cell_type": "code",
   "execution_count": 210,
   "id": "356858e3-e448-4cb4-b291-c2d8fea9a4cb",
   "metadata": {},
   "outputs": [
    {
     "data": {
      "text/plain": [
       "<matplotlib.image.AxesImage at 0x1612a7a00>"
      ]
     },
     "execution_count": 210,
     "metadata": {},
     "output_type": "execute_result"
    },
    {
     "data": {
      "image/png": "[encoded data removed]",
      "text/plain": [
       "<Figure size 640x480 with 1 Axes>"
      ]
     },
     "metadata": {},
     "output_type": "display_data"
    }
   ],
   "source": [
    "masksv = ps.constructMask(si, sv, flat_means_decrease)\n",
    "masksv[si] = 0\n",
    "plt.imshow(masksv)"
   ]
  },
  {
   "cell_type": "code",
   "execution_count": null,
   "id": "aee5cdc1-fd63-4dc9-9c15-bf3786c1ae91",
   "metadata": {},
   "outputs": [],
   "source": []
  },
  {
   "cell_type": "code",
   "execution_count": 211,
   "id": "861ccba8-8fdb-439a-aff3-cf37f51cbbd1",
   "metadata": {},
   "outputs": [
    {
     "data": {
      "text/plain": [
       "<matplotlib.image.AxesImage at 0x1611c2580>"
      ]
     },
     "execution_count": 211,
     "metadata": {},
     "output_type": "execute_result"
    },
    {
     "data": {
      "image/png": "[encoded data removed]",
      "text/plain": [
       "<Figure size 640x480 with 1 Axes>"
      ]
     },
     "metadata": {},
     "output_type": "display_data"
    }
   ],
   "source": [
    "plt.imshow(masksv*svc)\n"
   ]
  },
  {
   "cell_type": "code",
   "execution_count": 212,
   "id": "e11c0986-aa77-494e-8186-a0ced74275f2",
   "metadata": {},
   "outputs": [
    {
     "data": {
      "text/plain": [
       "<matplotlib.image.AxesImage at 0x1612a7820>"
      ]
     },
     "execution_count": 212,
     "metadata": {},
     "output_type": "execute_result"
    },
    {
     "data": {
      "image/png": "[encoded data removed]",
      "text/plain": [
       "<Figure size 640x480 with 1 Axes>"
      ]
     },
     "metadata": {},
     "output_type": "display_data"
    }
   ],
   "source": [
    "plt.imshow(masksv)"
   ]
  },
  {
   "cell_type": "code",
   "execution_count": 213,
   "id": "533452b0-e7ac-40c8-87e9-693618cfef18",
   "metadata": {},
   "outputs": [
    {
     "data": {
      "text/plain": [
       "<matplotlib.image.AxesImage at 0x16154e700>"
      ]
     },
     "execution_count": 213,
     "metadata": {},
     "output_type": "execute_result"
    },
    {
     "data": {
      "image/png": "[encoded data removed]",
      "text/plain": [
       "<Figure size 640x480 with 1 Axes>"
      ]
     },
     "metadata": {},
     "output_type": "display_data"
    }
   ],
   "source": [
    "plt.imshow(sv)"
   ]
  },
  {
   "cell_type": "code",
   "execution_count": 214,
   "id": "99946603-7d05-461d-8848-d5198d40ff4b",
   "metadata": {},
   "outputs": [
    {
     "data": {
      "text/plain": [
       "2147"
      ]
     },
     "execution_count": 214,
     "metadata": {},
     "output_type": "execute_result"
    }
   ],
   "source": [
    "len(coords)"
   ]
  },
  {
   "cell_type": "code",
   "execution_count": 215,
   "id": "60c51328-6a01-41ec-9e8f-26ed8d2c0842",
   "metadata": {},
   "outputs": [
    {
     "data": {
      "text/plain": [
       "3658"
      ]
     },
     "execution_count": 215,
     "metadata": {},
     "output_type": "execute_result"
    }
   ],
   "source": [
    "sv.shape[0]*sv.shape[1]"
   ]
  },
  {
   "cell_type": "code",
   "execution_count": 237,
   "id": "bc900704-4847-4ff1-9fbf-425430bbc0bc",
   "metadata": {},
   "outputs": [
    {
     "data": {
      "text/plain": [
       "2147"
      ]
     },
     "execution_count": 237,
     "metadata": {},
     "output_type": "execute_result"
    }
   ],
   "source": [
    "len(coords)"
   ]
  },
  {
   "cell_type": "code",
   "execution_count": 217,
   "id": "3bea54dc-acb0-4dbb-a6a2-b43bb4bbbac6",
   "metadata": {},
   "outputs": [
    {
     "name": "stdout",
     "output_type": "stream",
     "text": [
      " 170.38%\n"
     ]
    }
   ],
   "source": [
    "print(\"coords:\", si)\n",
    "    \n",
    "clear_output(wait = True)\n",
    "s = \"{percen: 1.2f}%\"\n",
    "print(s.format(percen = 100*(i + 1)/n))\n",
    "    \n",
    "si = tuple(si)\n",
    "\n",
    "#generate a semivariance sv map\n",
    "sv = rG.makeSemivarianceMap(si)\n",
    "    \n",
    "#flattne sv to store it in a dataframe\n",
    "semivar_brat = sv.flatten()\n",
    "    \n",
    "#construct a mask of sv and then flatten it\n",
    "semivar_brat_mask = ps.constructMask(si, sv, flat_means_decrease).flatten()"
   ]
  },
  {
   "cell_type": "code",
   "execution_count": 218,
   "id": "9d829d3f-25df-4f47-bfed-039fa751dfae",
   "metadata": {},
   "outputs": [
    {
     "data": {
      "text/plain": [
       "array([0., 0., 0., ..., 0., 0., 0.])"
      ]
     },
     "execution_count": 218,
     "metadata": {},
     "output_type": "execute_result"
    }
   ],
   "source": [
    "semivar_brat_mask"
   ]
  },
  {
   "cell_type": "code",
   "execution_count": 240,
   "id": "2298a59f-7ee2-4468-9579-313a2cd5b6bf",
   "metadata": {},
   "outputs": [
    {
     "data": {
      "text/plain": [
       "2147"
      ]
     },
     "execution_count": 240,
     "metadata": {},
     "output_type": "execute_result"
    }
   ],
   "source": [
    "np.sum(EAM)\n",
    "len(coords)"
   ]
  },
  {
   "cell_type": "markdown",
   "id": "9196ac31-4346-4ac3-8c04-88a7772f1ca2",
   "metadata": {},
   "source": [
    "# parte mas importante del notebook"
   ]
  },
  {
   "cell_type": "code",
   "execution_count": 241,
   "id": "a68848d7-e1b8-4d33-a04c-732004f950fa",
   "metadata": {},
   "outputs": [
    {
     "ename": "TypeError",
     "evalue": "unsupported operand type(s) for /: 'int' and 'list'",
     "output_type": "error",
     "traceback": [
      "\u001b[0;31m---------------------------------------------------------------------------\u001b[0m",
      "\u001b[0;31mTypeError\u001b[0m                                 Traceback (most recent call last)",
      "Cell \u001b[0;32mIn[241], line 6\u001b[0m\n\u001b[1;32m      4\u001b[0m clear_output(wait \u001b[38;5;241m=\u001b[39m \u001b[38;5;28;01mTrue\u001b[39;00m)\n\u001b[1;32m      5\u001b[0m s \u001b[38;5;241m=\u001b[39m \u001b[38;5;124m\"\u001b[39m\u001b[38;5;132;01m{percen: 1.2f}\u001b[39;00m\u001b[38;5;124m%\u001b[39m\u001b[38;5;124m\"\u001b[39m\n\u001b[0;32m----> 6\u001b[0m \u001b[38;5;28mprint\u001b[39m(s\u001b[38;5;241m.\u001b[39mformat(percen \u001b[38;5;241m=\u001b[39m \u001b[38;5;241;43m100\u001b[39;49m\u001b[38;5;241;43m*\u001b[39;49m\u001b[43m(\u001b[49m\u001b[43mi\u001b[49m\u001b[43m \u001b[49m\u001b[38;5;241;43m+\u001b[39;49m\u001b[43m \u001b[49m\u001b[38;5;241;43m1\u001b[39;49m\u001b[43m)\u001b[49m\u001b[38;5;241;43m/\u001b[39;49m\u001b[43mn\u001b[49m))\n\u001b[1;32m      8\u001b[0m si \u001b[38;5;241m=\u001b[39m \u001b[38;5;28mtuple\u001b[39m(si)\n\u001b[1;32m     10\u001b[0m \u001b[38;5;66;03m#generate a semivariance sv map\u001b[39;00m\n",
      "\u001b[0;31mTypeError\u001b[0m: unsupported operand type(s) for /: 'int' and 'list'"
     ]
    }
   ],
   "source": [
    "for i, si in enumerate(coords):\n",
    "    print(\"coords:\", si)\n",
    "    \n",
    "    clear_output(wait = True)\n",
    "    s = \"{percen: 1.2f}%\"\n",
    "    print(s.format(percen = 100*(i + 1)/n))\n",
    "    \n",
    "    si = tuple(si)\n",
    "\n",
    "    #generate a semivariance sv map\n",
    "    sv = rG.makeSemivarianceMap(si)\n",
    "    \n",
    "    #flattne sv to store it in a dataframe\n",
    "    allsemivariances[i] = sv.flatten()\n",
    "    \n",
    "    #construct a mask of sv and then flatten it\n",
    "    allmask[i] = ps.constructMask(si, sv, flat_means_decrease).flatten()"
   ]
  },
  {
   "cell_type": "code",
   "execution_count": 191,
   "id": "28057a1a-cf18-4030-a35c-641d499b301e",
   "metadata": {},
   "outputs": [],
   "source": [
    "svc = np.copy(sv)"
   ]
  },
  {
   "cell_type": "code",
   "execution_count": 192,
   "id": "dc75df9b-870c-4f66-ad88-e05748daf1f7",
   "metadata": {},
   "outputs": [],
   "source": [
    "svc[tuple(si)] = np.max(svc)"
   ]
  },
  {
   "cell_type": "code",
   "execution_count": 193,
   "id": "4b00e034-2ff2-4c3a-8a47-808779c0e2eb",
   "metadata": {},
   "outputs": [
    {
     "data": {
      "text/plain": [
       "<matplotlib.image.AxesImage at 0x16769f160>"
      ]
     },
     "execution_count": 193,
     "metadata": {},
     "output_type": "execute_result"
    },
    {
     "data": {
      "image/png": "[encoded data removed]",
      "text/plain": [
       "<Figure size 640x480 with 1 Axes>"
      ]
     },
     "metadata": {},
     "output_type": "display_data"
    }
   ],
   "source": [
    "plt.imshow(sv)"
   ]
  },
  {
   "cell_type": "code",
   "execution_count": 194,
   "id": "020cef7f-3c83-4121-85c0-1d5eefa9d6c9",
   "metadata": {},
   "outputs": [],
   "source": [
    "maskf = ps.constructMask(si, sv, flat_means_decrease).flatten()"
   ]
  },
  {
   "cell_type": "code",
   "execution_count": 195,
   "id": "fffea3a8-e728-4497-b42f-3eb583b0bcca",
   "metadata": {},
   "outputs": [
    {
     "data": {
      "text/plain": [
       "<matplotlib.image.AxesImage at 0x160351700>"
      ]
     },
     "execution_count": 195,
     "metadata": {},
     "output_type": "execute_result"
    },
    {
     "data": {
      "image/png": "[encoded data removed]",
      "text/plain": [
       "<Figure size 640x480 with 1 Axes>"
      ]
     },
     "metadata": {},
     "output_type": "display_data"
    }
   ],
   "source": [
    "plt.imshow(maskf.reshape(sv.shape)*FDNTLI_LINZ)"
   ]
  },
  {
   "cell_type": "code",
   "execution_count": 196,
   "id": "9e6e0dd8-120d-497f-b6af-1e42a6ddd64b",
   "metadata": {},
   "outputs": [],
   "source": [
    "P = ps.perimeter(sv)"
   ]
  },
  {
   "cell_type": "code",
   "execution_count": 197,
   "id": "18a9e534-c415-470f-8746-bd0d4d5354f1",
   "metadata": {},
   "outputs": [
    {
     "data": {
      "text/plain": [
       "(62, 59)"
      ]
     },
     "execution_count": 197,
     "metadata": {},
     "output_type": "execute_result"
    }
   ],
   "source": [
    "FDNTLI.shape"
   ]
  },
  {
   "cell_type": "code",
   "execution_count": 198,
   "id": "bd32a156-5fcb-44c7-b6ad-ba8b6eacdac3",
   "metadata": {},
   "outputs": [
    {
     "data": {
      "text/plain": [
       "(62, 59)"
      ]
     },
     "execution_count": 198,
     "metadata": {},
     "output_type": "execute_result"
    }
   ],
   "source": [
    "sv.shape"
   ]
  },
  {
   "cell_type": "code",
   "execution_count": 199,
   "id": "1d37543e-851b-4255-a24f-9b1f435ad13d",
   "metadata": {},
   "outputs": [],
   "source": [
    "for pix in P:\n",
    "    sv[pix]"
   ]
  },
  {
   "cell_type": "code",
   "execution_count": 200,
   "id": "31c49351-ab7e-4d1f-95ad-5b72f2deb20e",
   "metadata": {},
   "outputs": [
    {
     "data": {
      "text/plain": [
       "(61, 58)"
      ]
     },
     "execution_count": 200,
     "metadata": {},
     "output_type": "execute_result"
    }
   ],
   "source": [
    "pix"
   ]
  },
  {
   "cell_type": "code",
   "execution_count": 201,
   "id": "472a1e49-980d-4cef-a6b7-174bc8fdba4d",
   "metadata": {},
   "outputs": [
    {
     "data": {
      "text/plain": [
       "(62, 59)"
      ]
     },
     "execution_count": 201,
     "metadata": {},
     "output_type": "execute_result"
    }
   ],
   "source": [
    "np.shape(sv)"
   ]
  },
  {
   "cell_type": "code",
   "execution_count": 202,
   "id": "30f53ad8-30ed-454e-95e1-b671e4bc500b",
   "metadata": {},
   "outputs": [],
   "source": [
    "si = (58, 28)"
   ]
  },
  {
   "cell_type": "code",
   "execution_count": 203,
   "id": "90d6af22-56a6-4325-b618-42ea818dfec5",
   "metadata": {},
   "outputs": [
    {
     "name": "stdout",
     "output_type": "stream",
     "text": [
      "Semivariances saved at:  ../experiments/linz_experiment_with_initial_positions_no2/semivariances/semivariance050512022.csv\n",
      "Semivariances mask saved to:  ../experiments/linz_experiment_with_initial_positions_no2/semivariances/semivariance050512022mask.csv\n"
     ]
    }
   ],
   "source": [
    "#path to save collection of semivariances\n",
    "\n",
    "prefix_path = (cfg.experiment + setup[\"experiment_id\"] \n",
    "          + setup[\"folder_semivariances\"] \n",
    "          + setup[\"output_semivariances\"])\n",
    "\n",
    "\n",
    "filesv = ( prefix_path + \".csv\")\n",
    "\n",
    "print(\"Semivariances saved at: \", filesv)\n",
    "\n",
    "#filesvmask = (cfg.experiment + setup[\"experiment_id\"] \n",
    "#              + setup[\"folder_semivariances\"] \n",
    "#              + setup[\"output_semivariances\"] \n",
    "#              + \"mask.csv\")\n",
    "\n",
    "\n",
    "#path to save collection of masks\n",
    "#each semivariance map is associated with a mask.\n",
    "#mask defines the region of influence\n",
    "\n",
    "filesvmask = (prefix_path + \"mask.csv\")\n",
    "\n",
    "print(\"Semivariances mask saved to: \", filesvmask)"
   ]
  },
  {
   "cell_type": "code",
   "execution_count": null,
   "id": "d58a9f55-8dec-4ed6-acf6-e6c95611631f",
   "metadata": {},
   "outputs": [],
   "source": []
  },
  {
   "cell_type": "code",
   "execution_count": 204,
   "id": "c77f5ead-5e3a-49c0-91d8-15d3c6a12e13",
   "metadata": {},
   "outputs": [],
   "source": [
    "\n",
    "\n",
    "df_semivariance = pd.DataFrame(allsemivariances)\n",
    "df_semivariance.insert(0, \"coordsy\", coords[:,0]) \n",
    "df_semivariance.insert(1, \"coordsx\", coords[:,1])\n",
    "df_semivariance.to_csv(filesv)\n",
    "\n",
    "df_semivariance_mask = pd.DataFrame(allmask)\n",
    "df_semivariance_mask.insert(0, \"coordsy\", coords[:,0]) \n",
    "df_semivariance_mask.insert(1, \"coordsx\", coords[:,1])\n",
    "df_semivariance_mask.to_csv(filesvmask)"
   ]
  },
  {
   "cell_type": "code",
   "execution_count": null,
   "id": "1323b039-ea99-4f0b-860d-3d5f54b0eaca",
   "metadata": {},
   "outputs": [],
   "source": []
  }
 ],
 "metadata": {
  "kernelspec": {
   "display_name": "Python 3 (ipykernel)",
   "language": "python",
   "name": "python3"
  },
  "language_info": {
   "codemirror_mode": {
    "name": "ipython",
    "version": 3
   },
   "file_extension": ".py",
   "mimetype": "text/x-python",
   "name": "python",
   "nbconvert_exporter": "python",
   "pygments_lexer": "ipython3",
   "version": "3.9.16"
  }
 },
 "nbformat": 4,
 "nbformat_minor": 5
}
