{
 "cells": [
  {
   "cell_type": "code",
   "execution_count": 6,
   "id": "063e22ee-0ce2-4b0b-a0f4-ea181fb388af",
   "metadata": {},
   "outputs": [
    {
     "name": "stdout",
     "output_type": "stream",
     "text": [
      "Root of the project: /Users/rodrigo/SourcesCodes/GitHub/light pollution sensor locations/optimization_sensor_locations_with_constraints/notebooks/..\n"
     ]
    }
   ],
   "source": [
    "#Cargando librerías \n",
    "\n",
    "from IPython.display import clear_output\n",
    "import importlib\n",
    "\n",
    "from PIL import Image\n",
    "import matplotlib.pyplot as plt\n",
    "import scipy as sp\n",
    "#from scipy import ndimage as ndi\n",
    "import numpy as np\n",
    "import pandas as pd\n",
    "import os\n",
    "import sys  \n",
    "\n",
    "from skimage.draw import line\n",
    "\n",
    "root = os.getcwd() + \"/..\"\n",
    "\n",
    "sys.path.insert(0, root)\n",
    "\n",
    "print(\"Root of the project:\", root)"
   ]
  },
  {
   "cell_type": "code",
   "execution_count": 18,
   "id": "d4596602-e7ba-4f06-b431-c4ecaa5f5d13",
   "metadata": {},
   "outputs": [
    {
     "data": {
      "text/plain": [
       "'/Users/rodrigo/SourcesCodes/GitHub/light pollution sensor locations/optimization_sensor_locations_with_constraints/locations/linz/linz_and_surroundings'"
      ]
     },
     "execution_count": 18,
     "metadata": {},
     "output_type": "execute_result"
    }
   ],
   "source": [
    "path = \"/Users/rodrigo/SourcesCodes/GitHub/light pollution sensor locations/optimization_sensor_locations_with_constraints/locations/linz/linz_and_surroundings\"\n",
    "path"
   ]
  },
  {
   "cell_type": "code",
   "execution_count": 20,
   "id": "d22b5375-56b8-4f5b-a7e5-b6d0f9884883",
   "metadata": {},
   "outputs": [
    {
     "name": "stdout",
     "output_type": "stream",
     "text": [
      "Unexpected exception formatting exception. Falling back to standard exception\n"
     ]
    },
    {
     "name": "stderr",
     "output_type": "stream",
     "text": [
      "Traceback (most recent call last):\n",
      "  File \"fiona/ogrext.pyx\", line 136, in fiona.ogrext.gdal_open_vector\n",
      "  File \"fiona/_err.pyx\", line 291, in fiona._err.exc_wrap_pointer\n",
      "fiona._err.CPLE_OpenFailedError: 'World_atlas_linz_and_surroundings' not recognized as a supported file format.\n",
      "\n",
      "During handling of the above exception, another exception occurred:\n",
      "\n",
      "Traceback (most recent call last):\n",
      "  File \"/Users/rodrigo/anaconda3/envs/ML/lib/python3.9/site-packages/IPython/core/interactiveshell.py\", line 3460, in run_code\n",
      "    exec(code_obj, self.user_global_ns, self.user_ns)\n",
      "  File \"/var/folders/k9/wpfgnz550_n_k3t9tg8scnlw0000gn/T/ipykernel_9898/1226011447.py\", line 5, in <module>\n",
      "    gdf = geopandas.read_file(\"World_atlas_linz_and_surroundings\")\n",
      "  File \"/Users/rodrigo/anaconda3/envs/ML/lib/python3.9/site-packages/geopandas/io/file.py\", line 259, in _read_file\n",
      "    return _read_file_fiona(\n",
      "  File \"/Users/rodrigo/anaconda3/envs/ML/lib/python3.9/site-packages/geopandas/io/file.py\", line 303, in _read_file_fiona\n",
      "    with reader(path_or_bytes, **kwargs) as features:\n",
      "  File \"/Users/rodrigo/anaconda3/envs/ML/lib/python3.9/site-packages/fiona/env.py\", line 457, in wrapper\n",
      "    return f(*args, **kwds)\n",
      "  File \"/Users/rodrigo/anaconda3/envs/ML/lib/python3.9/site-packages/fiona/__init__.py\", line 335, in open\n",
      "    colxn = Collection(\n",
      "  File \"/Users/rodrigo/anaconda3/envs/ML/lib/python3.9/site-packages/fiona/collection.py\", line 234, in __init__\n",
      "    self.session.start(self, **kwargs)\n",
      "  File \"fiona/ogrext.pyx\", line 587, in fiona.ogrext.Session.start\n",
      "  File \"fiona/ogrext.pyx\", line 143, in fiona.ogrext.gdal_open_vector\n",
      "fiona.errors.DriverError: 'World_atlas_linz_and_surroundings' not recognized as a supported file format.\n",
      "\n",
      "During handling of the above exception, another exception occurred:\n",
      "\n",
      "Traceback (most recent call last):\n",
      "  File \"/Users/rodrigo/anaconda3/envs/ML/lib/python3.9/site-packages/IPython/core/interactiveshell.py\", line 2057, in showtraceback\n",
      "    stb = self.InteractiveTB.structured_traceback(\n",
      "  File \"/Users/rodrigo/anaconda3/envs/ML/lib/python3.9/site-packages/IPython/core/ultratb.py\", line 1288, in structured_traceback\n",
      "    return FormattedTB.structured_traceback(\n",
      "  File \"/Users/rodrigo/anaconda3/envs/ML/lib/python3.9/site-packages/IPython/core/ultratb.py\", line 1177, in structured_traceback\n",
      "    return VerboseTB.structured_traceback(\n",
      "  File \"/Users/rodrigo/anaconda3/envs/ML/lib/python3.9/site-packages/IPython/core/ultratb.py\", line 1049, in structured_traceback\n",
      "    formatted_exceptions += self.format_exception_as_a_whole(etype, evalue, etb, lines_of_context,\n",
      "  File \"/Users/rodrigo/anaconda3/envs/ML/lib/python3.9/site-packages/IPython/core/ultratb.py\", line 935, in format_exception_as_a_whole\n",
      "    self.get_records(etb, number_of_lines_of_context, tb_offset) if etb else []\n",
      "  File \"/Users/rodrigo/anaconda3/envs/ML/lib/python3.9/site-packages/IPython/core/ultratb.py\", line 1003, in get_records\n",
      "    lines, first = inspect.getsourcelines(etb.tb_frame)\n",
      "  File \"/Users/rodrigo/anaconda3/envs/ML/lib/python3.9/inspect.py\", line 1006, in getsourcelines\n",
      "    lines, lnum = findsource(object)\n",
      "  File \"/Users/rodrigo/anaconda3/envs/ML/lib/python3.9/inspect.py\", line 835, in findsource\n",
      "    raise OSError('could not get source code')\n",
      "OSError: could not get source code\n"
     ]
    }
   ],
   "source": [
    "import geopandas\n",
    "from geodatasets import get_path\n",
    "\n",
    "#path_to_data = get_path(\"nybb\")\n",
    "gdf = geopandas.read_file(\"World_atlas_linz_and_surroundings\")\n",
    "\n",
    "gdf"
   ]
  },
  {
   "cell_type": "code",
   "execution_count": 5,
   "id": "a0c32139-3d0a-4638-85ca-836b65c1d12f",
   "metadata": {},
   "outputs": [
    {
     "name": "stdout",
     "output_type": "stream",
     "text": [
      "Collecting geodatasets\n",
      "  Downloading geodatasets-2023.3.0-py3-none-any.whl (17 kB)\n",
      "Collecting pooch\n",
      "  Downloading pooch-1.7.0-py3-none-any.whl (60 kB)\n",
      "\u001b[2K     \u001b[90m━━━━━━━━━━━━━━━━━━━━━━━━━━━━━━━━━━━━━━━\u001b[0m \u001b[32m60.9/60.9 kB\u001b[0m \u001b[31m731.4 kB/s\u001b[0m eta \u001b[36m0:00:00\u001b[0ma \u001b[36m0:00:01\u001b[0m\n",
      "\u001b[?25hRequirement already satisfied: packaging>=20.0 in /opt/homebrew/lib/python3.10/site-packages (from pooch->geodatasets) (21.3)\n",
      "Requirement already satisfied: platformdirs>=2.5.0 in /opt/homebrew/lib/python3.10/site-packages (from pooch->geodatasets) (3.2.0)\n",
      "Requirement already satisfied: requests>=2.19.0 in /opt/homebrew/lib/python3.10/site-packages (from pooch->geodatasets) (2.31.0)\n",
      "Requirement already satisfied: pyparsing!=3.0.5,>=2.0.2 in /opt/homebrew/lib/python3.10/site-packages (from packaging>=20.0->pooch->geodatasets) (3.0.9)\n",
      "Requirement already satisfied: certifi>=2017.4.17 in /opt/homebrew/lib/python3.10/site-packages (from requests>=2.19.0->pooch->geodatasets) (2023.7.22)\n",
      "Requirement already satisfied: charset-normalizer<4,>=2 in /opt/homebrew/lib/python3.10/site-packages (from requests>=2.19.0->pooch->geodatasets) (3.2.0)\n",
      "Requirement already satisfied: urllib3<3,>=1.21.1 in /opt/homebrew/lib/python3.10/site-packages (from requests>=2.19.0->pooch->geodatasets) (2.0.4)\n",
      "Requirement already satisfied: idna<4,>=2.5 in /opt/homebrew/lib/python3.10/site-packages (from requests>=2.19.0->pooch->geodatasets) (3.4)\n",
      "Installing collected packages: pooch, geodatasets\n",
      "Successfully installed geodatasets-2023.3.0 pooch-1.7.0\n",
      "\n",
      "\u001b[1m[\u001b[0m\u001b[34;49mnotice\u001b[0m\u001b[1;39;49m]\u001b[0m\u001b[39;49m A new release of pip is available: \u001b[0m\u001b[31;49m23.0.1\u001b[0m\u001b[39;49m -> \u001b[0m\u001b[32;49m23.2.1\u001b[0m\n",
      "\u001b[1m[\u001b[0m\u001b[34;49mnotice\u001b[0m\u001b[1;39;49m]\u001b[0m\u001b[39;49m To update, run: \u001b[0m\u001b[32;49mpython3.10 -m pip install --upgrade pip\u001b[0m\n"
     ]
    }
   ],
   "source": [
    "!pip install geodatasets"
   ]
  },
  {
   "cell_type": "code",
   "execution_count": null,
   "id": "12bd26dd-9aef-4d8f-8851-5d1b201f6f67",
   "metadata": {},
   "outputs": [],
   "source": []
  }
 ],
 "metadata": {
  "kernelspec": {
   "display_name": "Python 3 (ipykernel)",
   "language": "python",
   "name": "python3"
  },
  "language_info": {
   "codemirror_mode": {
    "name": "ipython",
    "version": 3
   },
   "file_extension": ".py",
   "mimetype": "text/x-python",
   "name": "python",
   "nbconvert_exporter": "python",
   "pygments_lexer": "ipython3",
   "version": "3.9.16"
  }
 },
 "nbformat": 4,
 "nbformat_minor": 5
}
