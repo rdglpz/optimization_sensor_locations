{
 "cells": [
  {
   "cell_type": "code",
   "execution_count": 221,
   "id": "89ac545c-e61d-4b2a-9793-f85a458219da",
   "metadata": {},
   "outputs": [],
   "source": [
    "#!/usr/bin/env python3\n",
    "# -*- coding: utf-8 -*-\n",
    "\"\"\"\n",
    "Created on Fri May 27 22:15:13 2022\n",
    "\n",
    "@author: rodrigo\n",
    "\"\"\"\n",
    "\n",
    "#Cargando librerías \n",
    "import importlib\n",
    "\n",
    "import matplotlib.pyplot as plt\n",
    "import scipy as sp\n",
    "import numpy as np\n",
    "import pandas as pd\n",
    "import os\n",
    "import sys\n",
    "import itertools as it\n",
    "\n",
    "from geneticalgorithm import geneticalgorithm as ga\n",
    "\n",
    "root = os.getcwd() + \"/..\"\n",
    "\n",
    "sys.path.insert(0, root)\n",
    "\n",
    "import src.positioning_sensors as ps\n",
    "importlib.reload(ps)\n",
    "\n",
    "import src.network_fitness as netfit\n",
    "importlib.reload(netfit)\n",
    "\n",
    "import src.manageExperiments as me\n",
    "importlib.reload(me)\n",
    "\n",
    "import config.config as cfg\n",
    "importlib.reload(cfg)\n",
    "\n",
    "\n",
    "#read_global_variables\n",
    "\n",
    "plt.style.use(\"ggplot\")\n",
    "\n",
    "\n",
    "fn = \"linz_with_init_net_exp_2.txt\"\n",
    "setup = me.readConfigFile(fn)\n",
    "\n",
    "#cargamos imagenes en luminance e importance\n",
    "ilumina = setup[\"folder_input\"] + setup[\"input_ntli\"]\n",
    "niveles = setup[\"folder_input\"] + setup[\"input_evm\"]\n",
    "sigma_y = setup['filterg_sy']\n",
    "sigma_x = setup['filterg_sx']\n",
    "sigma = [sigma_y,sigma_x]\n",
    "\n",
    "#Loading precalculated local and directed empirical variograms\n",
    "path2output_semivars = (cfg.experiment \n",
    "          + setup[\"experiment_id\"]\n",
    "          + setup[\"folder_semivariances\"]\n",
    "          + setup[\"output_semivariances\"] \n",
    "                       )\n",
    "\n",
    "\n",
    "filesv = path2output_semivars + \".csv\"\n",
    "filesvmask = path2output_semivars + \"mask.csv\"\n",
    "\n",
    "path2optimum_values_file = (cfg.experiment \n",
    "                           + setup[\"experiment_id\"] \n",
    "                           + setup[\"folder_output\"] \n",
    "                           )\n",
    "\n",
    "saveOptimumValuesTofile = (path2optimum_values_file\n",
    "                           + setup[\"output_values\"]\n",
    "                          )\n",
    "\n",
    "saveArgsTofile = (path2optimum_values_file\n",
    "                  + setup[\"output_args\"]\n",
    "                 )\n",
    "\n",
    "data = pd.read_csv(filesv)\n",
    "data_m = pd.read_csv(filesvmask)\n",
    "variogram_set = np.array(data.iloc[:,3:])\n",
    "variogram_set_m = np.array(data_m.iloc[:,3:])\n",
    "\n",
    "\n",
    "#NLTI: luminance\n",
    "#luminance = ps.readIMG(cfg.data + ilumina)\n",
    "\n",
    "ilumina = cfg.data + setup[\"folder_input\"] + setup[\"input_ntli\"]\n",
    "niveles = cfg.data + setup[\"folder_input\"] + setup[\"input_evm\"]\n",
    "\n",
    "#NTLI: luminance\n",
    "NTLI = ps.readIMG(ilumina)\n",
    "\n",
    "from PIL import Image"
   ]
  },
  {
   "cell_type": "code",
   "execution_count": 222,
   "id": "e7f79b52-781a-4bac-bac1-8fc8016c9b41",
   "metadata": {},
   "outputs": [],
   "source": [
    "fn = \"linz_with_init_net_exp_2.txt\"\n",
    "setup = me.readConfigFile(fn)"
   ]
  },
  {
   "cell_type": "code",
   "execution_count": 223,
   "id": "8c32d66e-0246-47a5-8aa1-69591a0f6d1d",
   "metadata": {},
   "outputs": [],
   "source": [
    "#cargamos imagenes en luminance e importance\n",
    "\n",
    "img1 = cfg.data + setup[\"folder_input\"] + setup[\"input_ntli\"]\n",
    "img2 = cfg.data + setup[\"folder_input\"] + setup[\"input_evm\"]\n",
    "\n",
    "NTLI = np.array(Image.open(img1))\n",
    "FDNTLI = sp.ndimage.gaussian_filter(NTLI, sigma, mode = setup['gaussian_mode'])\n",
    "\n",
    "EAM = ps.readIMG(img2, invert = True)\n",
    "\n",
    "c = 1"
   ]
  },
  {
   "cell_type": "code",
   "execution_count": 224,
   "id": "7036c520-abd1-4845-a04c-afab5abbd8df",
   "metadata": {},
   "outputs": [
    {
     "data": {
      "text/plain": [
       "<matplotlib.image.AxesImage at 0x14720d760>"
      ]
     },
     "execution_count": 224,
     "metadata": {},
     "output_type": "execute_result"
    },
    {
     "data": {
      "image/png": "[encoded data removed]",
      "text/plain": [
       "<Figure size 640x480 with 1 Axes>"
      ]
     },
     "metadata": {},
     "output_type": "display_data"
    }
   ],
   "source": [
    "plt.imshow(FDNTLI)"
   ]
  },
  {
   "cell_type": "code",
   "execution_count": null,
   "id": "22fd031b-9d14-4eae-9e6b-bb0cf8641baf",
   "metadata": {},
   "outputs": [],
   "source": []
  },
  {
   "cell_type": "code",
   "execution_count": 225,
   "id": "3b538694-a452-48dd-add2-ae12875b8146",
   "metadata": {},
   "outputs": [],
   "source": [
    "FDNTLI_Flatten = FDNTLI.flatten()"
   ]
  },
  {
   "cell_type": "code",
   "execution_count": 226,
   "id": "f89fd264-dcbe-4eed-b74e-9b395239e34a",
   "metadata": {},
   "outputs": [],
   "source": [
    "n = len(setup['init_fixed_net'])"
   ]
  },
  {
   "cell_type": "code",
   "execution_count": 227,
   "id": "777d059b-0115-4490-a0b2-526d61da94df",
   "metadata": {},
   "outputs": [],
   "source": [
    "th = np.sort(FDNTLI_Flatten)[::-1][n-1]"
   ]
  },
  {
   "cell_type": "code",
   "execution_count": 228,
   "id": "f925b6f1-2249-4e9a-91ba-2f1f956f7655",
   "metadata": {},
   "outputs": [
    {
     "data": {
      "image/png": "[encoded data removed]",
      "text/plain": [
       "<Figure size 640x480 with 1 Axes>"
      ]
     },
     "metadata": {},
     "output_type": "display_data"
    }
   ],
   "source": [
    "MH = FDNTLI>=th\n",
    "plt.imshow(MH)\n",
    "plt.show()"
   ]
  },
  {
   "cell_type": "code",
   "execution_count": 229,
   "id": "dc95b9e7-9a43-406c-a1e0-95a4cf57fa4c",
   "metadata": {},
   "outputs": [
    {
     "data": {
      "text/plain": [
       "Text(0.5, 1.0, '22.240076')"
      ]
     },
     "execution_count": 229,
     "metadata": {},
     "output_type": "execute_result"
    },
    {
     "data": {
      "image/png": "[encoded data removed]",
      "text/plain": [
       "<Figure size 640x480 with 1 Axes>"
      ]
     },
     "metadata": {},
     "output_type": "display_data"
    }
   ],
   "source": [
    "plt.imshow(MH*FDNTLI)\n",
    "plt.title(np.sum(MH*FDNTLI))"
   ]
  },
  {
   "cell_type": "code",
   "execution_count": 1,
   "id": "80d74839-062c-4e00-86fa-7af52f30fe06",
   "metadata": {},
   "outputs": [
    {
     "ename": "NameError",
     "evalue": "name 'setup' is not defined",
     "output_type": "error",
     "traceback": [
      "\u001b[0;31m---------------------------------------------------------------------------\u001b[0m",
      "\u001b[0;31mNameError\u001b[0m                                 Traceback (most recent call last)",
      "Cell \u001b[0;32mIn[1], line 1\u001b[0m\n\u001b[0;32m----> 1\u001b[0m positions \u001b[38;5;241m=\u001b[39m \u001b[43msetup\u001b[49m[\u001b[38;5;124m\"\u001b[39m\u001b[38;5;124minit_fixed_net\u001b[39m\u001b[38;5;124m\"\u001b[39m]\n\u001b[1;32m      2\u001b[0m sensitivity \u001b[38;5;241m=\u001b[39m ps\u001b[38;5;241m.\u001b[39mf5(FDNTLI, EAM, \u001b[38;5;241m1\u001b[39m)\n\u001b[1;32m      3\u001b[0m variograms \u001b[38;5;241m=\u001b[39m variogram_set\u001b[38;5;241m.\u001b[39mreshape(\u001b[38;5;28mlen\u001b[39m(variogram_set),NTLI\u001b[38;5;241m.\u001b[39mshape[\u001b[38;5;241m0\u001b[39m],NTLI\u001b[38;5;241m.\u001b[39mshape[\u001b[38;5;241m1\u001b[39m])\n",
      "\u001b[0;31mNameError\u001b[0m: name 'setup' is not defined"
     ]
    }
   ],
   "source": [
    "positions = setup[\"init_fixed_net\"]\n",
    "sensitivity = ps.f5(FDNTLI, EAM, 1)\n",
    "variograms = variogram_set.reshape(len(variogram_set),NTLI.shape[0],NTLI.shape[1])\n",
    "variograms_m = variogram_set_m.reshape(len(variogram_set),NTLI.shape[0],NTLI.shape[1])\n",
    "coords = ps.get_coords(EAM==1)\n",
    "network = setup['init_fixed_net']\n",
    "r = 5"
   ]
  },
  {
   "cell_type": "code",
   "execution_count": null,
   "id": "2ce7e214-26ef-40c8-87c4-7e8ee0df175f",
   "metadata": {},
   "outputs": [],
   "source": []
  },
  {
   "cell_type": "code",
   "execution_count": 231,
   "id": "c1d25e3d-0865-469e-bd7d-e1f60c65fcf2",
   "metadata": {},
   "outputs": [],
   "source": [
    "EAM = EAM/np.max(EAM)\n",
    "coords = ps.get_coords(EAM==1)\n"
   ]
  },
  {
   "cell_type": "code",
   "execution_count": 232,
   "id": "e29a68e3-fd9e-4055-92eb-934465319f8e",
   "metadata": {},
   "outputs": [
    {
     "name": "stdout",
     "output_type": "stream",
     "text": [
      "Selct cost functions: \n",
      " 'xor','max' or 'cover'\n"
     ]
    }
   ],
   "source": [
    "aptitude = netfit.NetworkFitness(FDNTLI,\n",
    "                                         EAM,\n",
    "                                         sensitivity,\n",
    "                                         variograms,\n",
    "                                         variograms_m,\n",
    "                                         coords,\n",
    "                                         network,\n",
    "                                         r,\n",
    "                                         0.0,\n",
    "                                        alpha = 0.0\n",
    "                                    \n",
    "                                    )"
   ]
  },
  {
   "cell_type": "code",
   "execution_count": null,
   "id": "ee10edd0-81c3-47fd-87de-c527b219c97f",
   "metadata": {},
   "outputs": [],
   "source": []
  },
  {
   "cell_type": "code",
   "execution_count": 233,
   "id": "6e0f27aa-0bc3-41b2-ac37-edfee8048f7a",
   "metadata": {},
   "outputs": [],
   "source": [
    "\n",
    "\n",
    "covers = aptitude.getCapturedLightPollutionCovers(np.array(positions))"
   ]
  },
  {
   "cell_type": "code",
   "execution_count": 234,
   "id": "e150ec53-1f93-4f8f-b947-610ee8bb4a16",
   "metadata": {},
   "outputs": [
    {
     "data": {
      "text/plain": [
       "<matplotlib.image.AxesImage at 0x156eb9dc0>"
      ]
     },
     "execution_count": 234,
     "metadata": {},
     "output_type": "execute_result"
    },
    {
     "data": {
      "image/png": "[encoded data removed]",
      "text/plain": [
       "<Figure size 640x480 with 1 Axes>"
      ]
     },
     "metadata": {},
     "output_type": "display_data"
    }
   ],
   "source": [
    "plt.imshow(covers[1]*MH*FDNTLI)"
   ]
  },
  {
   "cell_type": "code",
   "execution_count": 235,
   "id": "78abd80d-cb7d-475a-8a33-1365b9414892",
   "metadata": {},
   "outputs": [],
   "source": [
    "X = np.array(positions).flatten()"
   ]
  },
  {
   "cell_type": "code",
   "execution_count": 236,
   "id": "f0adb6ef-bce9-4ef9-8f41-a97f9a2d6ac2",
   "metadata": {},
   "outputs": [],
   "source": [
    "CP = aptitude.f3(X)"
   ]
  },
  {
   "cell_type": "code",
   "execution_count": 237,
   "id": "fdb53eac-33db-4c7f-bb47-7ad03894ce82",
   "metadata": {},
   "outputs": [
    {
     "data": {
      "text/plain": [
       "0.8119799433382077"
      ]
     },
     "execution_count": 237,
     "metadata": {},
     "output_type": "execute_result"
    }
   ],
   "source": [
    "aptitude.f3(np.array(positions))"
   ]
  },
  {
   "cell_type": "code",
   "execution_count": null,
   "id": "a8489b45-d99f-4bb8-98b5-197a9f3cf27b",
   "metadata": {},
   "outputs": [],
   "source": []
  },
  {
   "cell_type": "code",
   "execution_count": 219,
   "id": "4037f8bb-a637-41aa-9895-e4b564d46e1a",
   "metadata": {},
   "outputs": [
    {
     "data": {
      "text/plain": [
       "array([0])"
      ]
     },
     "execution_count": 219,
     "metadata": {},
     "output_type": "execute_result"
    }
   ],
   "source": [
    "np.unique(np.argmax(CP, axis = 0).flatten())"
   ]
  },
  {
   "cell_type": "code",
   "execution_count": 220,
   "id": "97183baa-b604-4654-b25f-d41bf5b323cf",
   "metadata": {},
   "outputs": [
    {
     "data": {
      "text/plain": [
       "1.959316092715833"
      ]
     },
     "execution_count": 220,
     "metadata": {},
     "output_type": "execute_result"
    }
   ],
   "source": [
    "np.sum(np.max(CP, axis = 0))"
   ]
  },
  {
   "cell_type": "code",
   "execution_count": null,
   "id": "4dc097e5-0e4c-4900-a426-9ec91af01bc6",
   "metadata": {},
   "outputs": [],
   "source": []
  }
 ],
 "metadata": {
  "kernelspec": {
   "display_name": "Python 3 (ipykernel)",
   "language": "python",
   "name": "python3"
  },
  "language_info": {
   "codemirror_mode": {
    "name": "ipython",
    "version": 3
   },
   "file_extension": ".py",
   "mimetype": "text/x-python",
   "name": "python",
   "nbconvert_exporter": "python",
   "pygments_lexer": "ipython3",
   "version": "3.9.16"
  }
 },
 "nbformat": 4,
 "nbformat_minor": 5
}
